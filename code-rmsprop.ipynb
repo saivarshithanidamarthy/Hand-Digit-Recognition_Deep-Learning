{
 "cells": [
  {
   "cell_type": "code",
   "execution_count": 99,
   "metadata": {},
   "outputs": [],
   "source": [
    "#importing tensor flow,pandas and numpy libraries\n",
    "import tensorflow as tf\n",
    "import pandas as pd\n",
    "import numpy as np\n"
   ]
  },
  {
   "cell_type": "code",
   "execution_count": 100,
   "metadata": {},
   "outputs": [],
   "source": [
    "#importing mnist data set using keras api\n",
    "(x_train, y_train), (x_test, y_test) = tf.keras.datasets.mnist.load_data()"
   ]
  },
  {
   "cell_type": "code",
   "execution_count": 101,
   "metadata": {},
   "outputs": [
    {
     "data": {
      "text/plain": [
       "0"
      ]
     },
     "execution_count": 101,
     "metadata": {},
     "output_type": "execute_result"
    }
   ],
   "source": [
    "#checking for nulls\n",
    "check = pd.Series(y_train)\n",
    "check.isnull().sum()"
   ]
  },
  {
   "cell_type": "code",
   "execution_count": 171,
   "metadata": {},
   "outputs": [
    {
     "data": {
      "text/plain": [
       "0"
      ]
     },
     "execution_count": 171,
     "metadata": {},
     "output_type": "execute_result"
    }
   ],
   "source": [
    "#checking for nulls\n",
    "check = pd.Series(y_test)\n",
    "check.isnull().sum()"
   ]
  },
  {
   "cell_type": "code",
   "execution_count": 105,
   "metadata": {},
   "outputs": [
    {
     "name": "stdout",
     "output_type": "stream",
     "text": [
      "0\n"
     ]
    },
    {
     "data": {
      "text/plain": [
       "<matplotlib.image.AxesImage at 0x2078026db38>"
      ]
     },
     "execution_count": 105,
     "metadata": {},
     "output_type": "execute_result"
    },
    {
     "data": {
      "image/png": "[encoded data removed]",
      "text/plain": [
       "<Figure size 432x288 with 1 Axes>"
      ]
     },
     "metadata": {
      "needs_background": "light"
     },
     "output_type": "display_data"
    }
   ],
   "source": [
    "#importing matplotlib library and checking training data\n",
    "import matplotlib.pyplot as plt\n",
    "image_index = 4488 #choose any index < = 60000\n",
    "print(y_train[image_index]) #the label is 0 here\n",
    "plt.imshow(x_train[image_index])"
   ]
  },
  {
   "cell_type": "code",
   "execution_count": 106,
   "metadata": {},
   "outputs": [
    {
     "name": "stdout",
     "output_type": "stream",
     "text": [
      "0\n"
     ]
    },
    {
     "data": {
      "text/plain": [
       "<matplotlib.image.AxesImage at 0x207802ce160>"
      ]
     },
     "execution_count": 106,
     "metadata": {},
     "output_type": "execute_result"
    },
    {
     "data": {
      "image/png": "[encoded data removed]",
      "text/plain": [
       "<Figure size 432x288 with 1 Axes>"
      ]
     },
     "metadata": {
      "needs_background": "light"
     },
     "output_type": "display_data"
    }
   ],
   "source": [
    "#this is a grey scale image \n",
    "image_index = 4488\n",
    "print(y_train[image_index]) \n",
    "plt.imshow(x_train[image_index], cmap='Greys')"
   ]
  },
  {
   "cell_type": "code",
   "execution_count": 107,
   "metadata": {},
   "outputs": [
    {
     "data": {
      "text/plain": [
       "Text(0.5, 0, 'Digits')"
      ]
     },
     "execution_count": 107,
     "metadata": {},
     "output_type": "execute_result"
    },
    {
     "data": {
      "image/png": "[encoded data removed]",
      "text/plain": [
       "<Figure size 432x288 with 1 Axes>"
      ]
     },
     "metadata": {
      "needs_background": "light"
     },
     "output_type": "display_data"
    }
   ],
   "source": [
    "#count of each digit in train\n",
    "import seaborn as sns\n",
    "viz_train = sns.countplot(y_train)\n",
    "viz_train.set_title(\"Train label distribution\")\n",
    "viz_train.set_ylabel('Count')\n",
    "viz_train.set_xlabel('Digits')\n"
   ]
  },
  {
   "cell_type": "code",
   "execution_count": 108,
   "metadata": {},
   "outputs": [
    {
     "data": {
      "text/plain": [
       "Text(0.5, 0, 'Digits')"
      ]
     },
     "execution_count": 108,
     "metadata": {},
     "output_type": "execute_result"
    },
    {
     "data": {
      "image/png": "[encoded data removed]",
      "text/plain": [
       "<Figure size 432x288 with 1 Axes>"
      ]
     },
     "metadata": {
      "needs_background": "light"
     },
     "output_type": "display_data"
    }
   ],
   "source": [
    "#count of each digit in test\n",
    "import seaborn as sns\n",
    "viz_test = sns.countplot(y_test) \n",
    "viz_test.set_title(\"Test label distribution\")\n",
    "viz_test.set_ylabel('Count')\n",
    "viz_test.set_xlabel('Digits')"
   ]
  },
  {
   "cell_type": "code",
   "execution_count": 109,
   "metadata": {},
   "outputs": [
    {
     "data": {
      "text/plain": [
       "(60000, 28, 28)"
      ]
     },
     "execution_count": 109,
     "metadata": {},
     "output_type": "execute_result"
    }
   ],
   "source": [
    "#to identify input shape\n",
    "x_train.shape"
   ]
  },
  {
   "cell_type": "code",
   "execution_count": 110,
   "metadata": {},
   "outputs": [
    {
     "data": {
      "text/plain": [
       "28"
      ]
     },
     "execution_count": 110,
     "metadata": {},
     "output_type": "execute_result"
    }
   ],
   "source": [
    "img_rows=x_train.shape[1]\n",
    "img_rows\n",
    "img_cols=x_train.shape[2]\n",
    "img_cols"
   ]
  },
  {
   "cell_type": "code",
   "execution_count": 111,
   "metadata": {},
   "outputs": [
    {
     "name": "stdout",
     "output_type": "stream",
     "text": [
      "x_train shape: (60000, 28, 28, 1)\n",
      "No. of images in x_train 60000\n",
      "No. of images in x_test 10000\n"
     ]
    }
   ],
   "source": [
    "#our array is 3-dimensional\n",
    "#in order to use dataset in Keras API, we require 4-dimensional numpy arrays \n",
    "#we have to normalize the data by dividing the RGB codes by 255\n",
    "x_train = x_train.reshape(x_train.shape[0], 28, 28, 1)\n",
    "x_test = x_test.reshape(x_test.shape[0], 28, 28, 1)\n",
    "input_shape = (28, 28, 1)\n",
    "#to get decimal points after division, we convert it into float datatype\n",
    "x_train = x_train.astype('float32')\n",
    "x_test = x_test.astype('float32')\n",
    "#normalizing\n",
    "x_train /= 255\n",
    "x_test /= 255\n",
    "print('x_train shape:', x_train.shape)\n",
    "print('No. of images in x_train', x_train.shape[0])\n",
    "print('No. of images in x_test', x_test.shape[0])"
   ]
  },
  {
   "cell_type": "code",
   "execution_count": 112,
   "metadata": {},
   "outputs": [],
   "source": [
    "#importing keras\n",
    "from keras.models import Sequential\n",
    "from keras.layers import Dense, Conv2D, Dropout, Flatten, MaxPooling2D\n",
    "#adding layers to the sequential model\n",
    "model = Sequential()\n",
    "model.add(Conv2D(50, kernel_size=(3,3), input_shape=input_shape))\n",
    "model.add(MaxPooling2D(pool_size=(2, 2)))\n",
    "model.add(Conv2D(35, kernel_size=(3,3), input_shape=input_shape))\n",
    "model.add(MaxPooling2D(pool_size=(2, 2)))\n",
    "model.add(Flatten()) #flatten the 2D arrays to connect to dense layers\n",
    "model.add(Dense(300, activation=tf.nn.relu))\n",
    "model.add(Dropout(0.2)) #Dropout layer to deal with overfittin\n",
    "model.add(Dense(10,activation=tf.nn.softmax))"
   ]
  },
  {
   "cell_type": "code",
   "execution_count": 113,
   "metadata": {
    "scrolled": true
   },
   "outputs": [
    {
     "name": "stdout",
     "output_type": "stream",
     "text": [
      "Epoch 1/2\n",
      "60000/60000 [==============================] - 58s 967us/step - loss: 0.1225 - acc: 0.9633\n",
      "Epoch 2/2\n",
      "60000/60000 [==============================] - 62s 1ms/step - loss: 0.0474 - acc: 0.9857\n"
     ]
    }
   ],
   "source": [
    "#the optimizer is RMSprop, the loss function is sparse_categorical_crossentropy and metric is accuracy\n",
    "model.compile(optimizer='rmsprop', \n",
    "              loss='sparse_categorical_crossentropy', \n",
    "              metrics=['accuracy'])\n",
    "a=model.fit(x=x_train,y=y_train, epochs=10)"
   ]
  },
  {
   "cell_type": "code",
   "execution_count": 116,
   "metadata": {},
   "outputs": [
    {
     "name": "stdout",
     "output_type": "stream",
     "text": [
      "0.0849484684209383 0.9745\n"
     ]
    }
   ],
   "source": [
    "#calculating mean of accuracies and losses for all the epochs\n",
    "a1=np.mean(a.history.get('loss'))\n",
    "a2=np.mean(a.history.get('acc'))\n",
    "print(a1,a2)"
   ]
  },
  {
   "cell_type": "code",
   "execution_count": 117,
   "metadata": {},
   "outputs": [
    {
     "name": "stdout",
     "output_type": "stream",
     "text": [
      "10000/10000 [==============================] - 3s 313us/step\n"
     ]
    },
    {
     "data": {
      "text/plain": [
       "[0.043236515882125966, 0.9869]"
      ]
     },
     "execution_count": 117,
     "metadata": {},
     "output_type": "execute_result"
    }
   ],
   "source": [
    "#evaluating the model\n",
    "model.evaluate(x_test, y_test)\n"
   ]
  },
  {
   "cell_type": "code",
   "execution_count": 120,
   "metadata": {
    "scrolled": true
   },
   "outputs": [
    {
     "name": "stdout",
     "output_type": "stream",
     "text": [
      "7\n"
     ]
    },
    {
     "data": {
      "image/png": "[encoded data removed]",
      "text/plain": [
       "<Figure size 432x288 with 1 Axes>"
      ]
     },
     "metadata": {
      "needs_background": "light"
     },
     "output_type": "display_data"
    }
   ],
   "source": [
    "#checking prediction for selected image and validating it with the test image\n",
    "image_index = 9566\n",
    "plt.imshow(x_test[image_index].reshape(28, 28),cmap='Greys')\n",
    "pred = model.predict(x_test[image_index].reshape(1, img_rows, img_cols, 1))\n",
    "print(y_test[9566])"
   ]
  },
  {
   "cell_type": "code",
   "execution_count": 121,
   "metadata": {},
   "outputs": [
    {
     "data": {
      "text/html": [
       "<div>\n",
       "<style scoped>\n",
       "    .dataframe tbody tr th:only-of-type {\n",
       "        vertical-align: middle;\n",
       "    }\n",
       "\n",
       "    .dataframe tbody tr th {\n",
       "        vertical-align: top;\n",
       "    }\n",
       "\n",
       "    .dataframe thead th {\n",
       "        text-align: right;\n",
       "    }\n",
       "</style>\n",
       "<table border=\"1\" class=\"dataframe\">\n",
       "  <thead>\n",
       "    <tr style=\"text-align: right;\">\n",
       "      <th></th>\n",
       "      <th>Predicted</th>\n",
       "      <th>Actual</th>\n",
       "    </tr>\n",
       "  </thead>\n",
       "  <tbody>\n",
       "    <tr>\n",
       "      <th>0</th>\n",
       "      <td>7</td>\n",
       "      <td>7</td>\n",
       "    </tr>\n",
       "    <tr>\n",
       "      <th>1</th>\n",
       "      <td>2</td>\n",
       "      <td>2</td>\n",
       "    </tr>\n",
       "    <tr>\n",
       "      <th>2</th>\n",
       "      <td>1</td>\n",
       "      <td>1</td>\n",
       "    </tr>\n",
       "    <tr>\n",
       "      <th>3</th>\n",
       "      <td>0</td>\n",
       "      <td>0</td>\n",
       "    </tr>\n",
       "    <tr>\n",
       "      <th>4</th>\n",
       "      <td>4</td>\n",
       "      <td>4</td>\n",
       "    </tr>\n",
       "    <tr>\n",
       "      <th>5</th>\n",
       "      <td>1</td>\n",
       "      <td>1</td>\n",
       "    </tr>\n",
       "    <tr>\n",
       "      <th>6</th>\n",
       "      <td>4</td>\n",
       "      <td>4</td>\n",
       "    </tr>\n",
       "    <tr>\n",
       "      <th>7</th>\n",
       "      <td>9</td>\n",
       "      <td>9</td>\n",
       "    </tr>\n",
       "    <tr>\n",
       "      <th>8</th>\n",
       "      <td>5</td>\n",
       "      <td>5</td>\n",
       "    </tr>\n",
       "    <tr>\n",
       "      <th>9</th>\n",
       "      <td>9</td>\n",
       "      <td>9</td>\n",
       "    </tr>\n",
       "    <tr>\n",
       "      <th>10</th>\n",
       "      <td>0</td>\n",
       "      <td>0</td>\n",
       "    </tr>\n",
       "    <tr>\n",
       "      <th>11</th>\n",
       "      <td>6</td>\n",
       "      <td>6</td>\n",
       "    </tr>\n",
       "    <tr>\n",
       "      <th>12</th>\n",
       "      <td>9</td>\n",
       "      <td>9</td>\n",
       "    </tr>\n",
       "    <tr>\n",
       "      <th>13</th>\n",
       "      <td>0</td>\n",
       "      <td>0</td>\n",
       "    </tr>\n",
       "    <tr>\n",
       "      <th>14</th>\n",
       "      <td>1</td>\n",
       "      <td>1</td>\n",
       "    </tr>\n",
       "    <tr>\n",
       "      <th>15</th>\n",
       "      <td>5</td>\n",
       "      <td>5</td>\n",
       "    </tr>\n",
       "    <tr>\n",
       "      <th>16</th>\n",
       "      <td>9</td>\n",
       "      <td>9</td>\n",
       "    </tr>\n",
       "    <tr>\n",
       "      <th>17</th>\n",
       "      <td>7</td>\n",
       "      <td>7</td>\n",
       "    </tr>\n",
       "    <tr>\n",
       "      <th>18</th>\n",
       "      <td>3</td>\n",
       "      <td>3</td>\n",
       "    </tr>\n",
       "    <tr>\n",
       "      <th>19</th>\n",
       "      <td>4</td>\n",
       "      <td>4</td>\n",
       "    </tr>\n",
       "    <tr>\n",
       "      <th>20</th>\n",
       "      <td>9</td>\n",
       "      <td>9</td>\n",
       "    </tr>\n",
       "    <tr>\n",
       "      <th>21</th>\n",
       "      <td>6</td>\n",
       "      <td>6</td>\n",
       "    </tr>\n",
       "    <tr>\n",
       "      <th>22</th>\n",
       "      <td>6</td>\n",
       "      <td>6</td>\n",
       "    </tr>\n",
       "    <tr>\n",
       "      <th>23</th>\n",
       "      <td>5</td>\n",
       "      <td>5</td>\n",
       "    </tr>\n",
       "    <tr>\n",
       "      <th>24</th>\n",
       "      <td>4</td>\n",
       "      <td>4</td>\n",
       "    </tr>\n",
       "    <tr>\n",
       "      <th>25</th>\n",
       "      <td>0</td>\n",
       "      <td>0</td>\n",
       "    </tr>\n",
       "    <tr>\n",
       "      <th>26</th>\n",
       "      <td>7</td>\n",
       "      <td>7</td>\n",
       "    </tr>\n",
       "    <tr>\n",
       "      <th>27</th>\n",
       "      <td>4</td>\n",
       "      <td>4</td>\n",
       "    </tr>\n",
       "    <tr>\n",
       "      <th>28</th>\n",
       "      <td>0</td>\n",
       "      <td>0</td>\n",
       "    </tr>\n",
       "    <tr>\n",
       "      <th>29</th>\n",
       "      <td>1</td>\n",
       "      <td>1</td>\n",
       "    </tr>\n",
       "    <tr>\n",
       "      <th>...</th>\n",
       "      <td>...</td>\n",
       "      <td>...</td>\n",
       "    </tr>\n",
       "    <tr>\n",
       "      <th>9970</th>\n",
       "      <td>5</td>\n",
       "      <td>5</td>\n",
       "    </tr>\n",
       "    <tr>\n",
       "      <th>9971</th>\n",
       "      <td>2</td>\n",
       "      <td>2</td>\n",
       "    </tr>\n",
       "    <tr>\n",
       "      <th>9972</th>\n",
       "      <td>4</td>\n",
       "      <td>4</td>\n",
       "    </tr>\n",
       "    <tr>\n",
       "      <th>9973</th>\n",
       "      <td>9</td>\n",
       "      <td>9</td>\n",
       "    </tr>\n",
       "    <tr>\n",
       "      <th>9974</th>\n",
       "      <td>4</td>\n",
       "      <td>4</td>\n",
       "    </tr>\n",
       "    <tr>\n",
       "      <th>9975</th>\n",
       "      <td>3</td>\n",
       "      <td>3</td>\n",
       "    </tr>\n",
       "    <tr>\n",
       "      <th>9976</th>\n",
       "      <td>6</td>\n",
       "      <td>6</td>\n",
       "    </tr>\n",
       "    <tr>\n",
       "      <th>9977</th>\n",
       "      <td>4</td>\n",
       "      <td>4</td>\n",
       "    </tr>\n",
       "    <tr>\n",
       "      <th>9978</th>\n",
       "      <td>1</td>\n",
       "      <td>1</td>\n",
       "    </tr>\n",
       "    <tr>\n",
       "      <th>9979</th>\n",
       "      <td>7</td>\n",
       "      <td>7</td>\n",
       "    </tr>\n",
       "    <tr>\n",
       "      <th>9980</th>\n",
       "      <td>2</td>\n",
       "      <td>2</td>\n",
       "    </tr>\n",
       "    <tr>\n",
       "      <th>9981</th>\n",
       "      <td>6</td>\n",
       "      <td>6</td>\n",
       "    </tr>\n",
       "    <tr>\n",
       "      <th>9982</th>\n",
       "      <td>5</td>\n",
       "      <td>5</td>\n",
       "    </tr>\n",
       "    <tr>\n",
       "      <th>9983</th>\n",
       "      <td>0</td>\n",
       "      <td>0</td>\n",
       "    </tr>\n",
       "    <tr>\n",
       "      <th>9984</th>\n",
       "      <td>1</td>\n",
       "      <td>1</td>\n",
       "    </tr>\n",
       "    <tr>\n",
       "      <th>9985</th>\n",
       "      <td>2</td>\n",
       "      <td>2</td>\n",
       "    </tr>\n",
       "    <tr>\n",
       "      <th>9986</th>\n",
       "      <td>3</td>\n",
       "      <td>3</td>\n",
       "    </tr>\n",
       "    <tr>\n",
       "      <th>9987</th>\n",
       "      <td>4</td>\n",
       "      <td>4</td>\n",
       "    </tr>\n",
       "    <tr>\n",
       "      <th>9988</th>\n",
       "      <td>5</td>\n",
       "      <td>5</td>\n",
       "    </tr>\n",
       "    <tr>\n",
       "      <th>9989</th>\n",
       "      <td>6</td>\n",
       "      <td>6</td>\n",
       "    </tr>\n",
       "    <tr>\n",
       "      <th>9990</th>\n",
       "      <td>7</td>\n",
       "      <td>7</td>\n",
       "    </tr>\n",
       "    <tr>\n",
       "      <th>9991</th>\n",
       "      <td>8</td>\n",
       "      <td>8</td>\n",
       "    </tr>\n",
       "    <tr>\n",
       "      <th>9992</th>\n",
       "      <td>9</td>\n",
       "      <td>9</td>\n",
       "    </tr>\n",
       "    <tr>\n",
       "      <th>9993</th>\n",
       "      <td>0</td>\n",
       "      <td>0</td>\n",
       "    </tr>\n",
       "    <tr>\n",
       "      <th>9994</th>\n",
       "      <td>1</td>\n",
       "      <td>1</td>\n",
       "    </tr>\n",
       "    <tr>\n",
       "      <th>9995</th>\n",
       "      <td>2</td>\n",
       "      <td>2</td>\n",
       "    </tr>\n",
       "    <tr>\n",
       "      <th>9996</th>\n",
       "      <td>3</td>\n",
       "      <td>3</td>\n",
       "    </tr>\n",
       "    <tr>\n",
       "      <th>9997</th>\n",
       "      <td>4</td>\n",
       "      <td>4</td>\n",
       "    </tr>\n",
       "    <tr>\n",
       "      <th>9998</th>\n",
       "      <td>5</td>\n",
       "      <td>5</td>\n",
       "    </tr>\n",
       "    <tr>\n",
       "      <th>9999</th>\n",
       "      <td>6</td>\n",
       "      <td>6</td>\n",
       "    </tr>\n",
       "  </tbody>\n",
       "</table>\n",
       "<p>10000 rows × 2 columns</p>\n",
       "</div>"
      ],
      "text/plain": [
       "      Predicted  Actual\n",
       "0             7       7\n",
       "1             2       2\n",
       "2             1       1\n",
       "3             0       0\n",
       "4             4       4\n",
       "5             1       1\n",
       "6             4       4\n",
       "7             9       9\n",
       "8             5       5\n",
       "9             9       9\n",
       "10            0       0\n",
       "11            6       6\n",
       "12            9       9\n",
       "13            0       0\n",
       "14            1       1\n",
       "15            5       5\n",
       "16            9       9\n",
       "17            7       7\n",
       "18            3       3\n",
       "19            4       4\n",
       "20            9       9\n",
       "21            6       6\n",
       "22            6       6\n",
       "23            5       5\n",
       "24            4       4\n",
       "25            0       0\n",
       "26            7       7\n",
       "27            4       4\n",
       "28            0       0\n",
       "29            1       1\n",
       "...         ...     ...\n",
       "9970          5       5\n",
       "9971          2       2\n",
       "9972          4       4\n",
       "9973          9       9\n",
       "9974          4       4\n",
       "9975          3       3\n",
       "9976          6       6\n",
       "9977          4       4\n",
       "9978          1       1\n",
       "9979          7       7\n",
       "9980          2       2\n",
       "9981          6       6\n",
       "9982          5       5\n",
       "9983          0       0\n",
       "9984          1       1\n",
       "9985          2       2\n",
       "9986          3       3\n",
       "9987          4       4\n",
       "9988          5       5\n",
       "9989          6       6\n",
       "9990          7       7\n",
       "9991          8       8\n",
       "9992          9       9\n",
       "9993          0       0\n",
       "9994          1       1\n",
       "9995          2       2\n",
       "9996          3       3\n",
       "9997          4       4\n",
       "9998          5       5\n",
       "9999          6       6\n",
       "\n",
       "[10000 rows x 2 columns]"
      ]
     },
     "execution_count": 121,
     "metadata": {},
     "output_type": "execute_result"
    }
   ],
   "source": [
    "#creating a table of actual and predicted values\n",
    "import numpy as np\n",
    "import pandas as pd\n",
    "test_pred = model.predict(x_test.reshape(-1, 28, 28, 1))\n",
    "test_pred = np.argmax(test_pred,axis=1)\n",
    "test_pred = pd.Series(test_pred,name = \"Predicted\")\n",
    "sub = pd.concat([test_pred,pd.Series(y_test,name=\"Actual\")],axis=1)\n",
    "sub"
   ]
  },
  {
   "cell_type": "code",
   "execution_count": 124,
   "metadata": {},
   "outputs": [],
   "source": [
    "#learning curve"
   ]
  },
  {
   "cell_type": "code",
   "execution_count": 125,
   "metadata": {},
   "outputs": [
    {
     "data": {
      "text/plain": [
       "(70000,)"
      ]
     },
     "execution_count": 125,
     "metadata": {},
     "output_type": "execute_result"
    }
   ],
   "source": [
    "#combining train and test data sets\n",
    "a= np.array(x_train)\n",
    "b= np.array(x_test)\n",
    "x_full=np.concatenate((a, b))\n",
    "x_full.shape \n",
    "c= np.array(y_train)\n",
    "d= np.array(y_test)\n",
    "y_full=np.concatenate((c, d))\n",
    "y_full.shape \n"
   ]
  },
  {
   "cell_type": "code",
   "execution_count": 166,
   "metadata": {},
   "outputs": [
    {
     "name": "stdout",
     "output_type": "stream",
     "text": [
      "i value 0.03\n",
      "x train split (2100, 28, 28, 1)\n",
      "x test split (67900, 28, 28, 1)\n",
      "y train split (2100,)\n",
      "y test split (67900,)\n",
      "Epoch 1/10\n",
      "2100/2100 [==============================] - 3s 1ms/step - loss: 7.4859e-04 - acc: 0.9995\n",
      "Epoch 2/10\n",
      "2100/2100 [==============================] - 3s 1ms/step - loss: 3.9058e-04 - acc: 1.0000\n",
      "Epoch 3/10\n",
      "2100/2100 [==============================] - 3s 1ms/step - loss: 3.7123e-04 - acc: 1.0000\n",
      "Epoch 4/10\n",
      "2100/2100 [==============================] - 3s 1ms/step - loss: 9.7251e-05 - acc: 1.0000\n",
      "Epoch 5/10\n",
      "2100/2100 [==============================] - 3s 1ms/step - loss: 1.8869e-04 - acc: 1.0000\n",
      "Epoch 6/10\n",
      "2100/2100 [==============================] - 3s 2ms/step - loss: 0.0015 - acc: 0.9990\n",
      "Epoch 7/10\n",
      "2100/2100 [==============================] - 4s 2ms/step - loss: 6.6430e-04 - acc: 0.9995\n",
      "Epoch 8/10\n",
      "2100/2100 [==============================] - 4s 2ms/step - loss: 6.6622e-05 - acc: 1.0000A: 0s - loss: 7.6087e-05 - acc\n",
      "Epoch 9/10\n",
      "2100/2100 [==============================] - 4s 2ms/step - loss: 4.5138e-06 - acc: 1.0000\n",
      "Epoch 10/10\n",
      "2100/2100 [==============================] - 3s 2ms/step - loss: 3.7761e-04 - acc: 0.9995\n",
      "training loss 0.0004389501890846077\n",
      "training acc 0.9997619047619049\n",
      "67900/67900 [==============================] - 46s 682us/step\n",
      "testing loss 0.05035535203547458\n",
      "testing acc 0.9904860088365243\n",
      "i value 0.06\n",
      "x train split (4200, 28, 28, 1)\n",
      "x test split (65800, 28, 28, 1)\n",
      "y train split (4200,)\n",
      "y test split (65800,)\n",
      "Epoch 1/10\n",
      "4200/4200 [==============================] - 7s 2ms/step - loss: 0.0041 - acc: 0.9983\n",
      "Epoch 2/10\n",
      "4200/4200 [==============================] - 7s 2ms/step - loss: 0.0030 - acc: 0.9983\n",
      "Epoch 3/10\n",
      "4200/4200 [==============================] - 7s 2ms/step - loss: 0.0026 - acc: 0.9993\n",
      "Epoch 4/10\n",
      "4200/4200 [==============================] - 7s 2ms/step - loss: 0.0014 - acc: 0.9995\n",
      "Epoch 5/10\n",
      "4200/4200 [==============================] - 7s 2ms/step - loss: 0.0011 - acc: 0.9995\n",
      "Epoch 6/10\n",
      "4200/4200 [==============================] - 7s 2ms/step - loss: 1.8774e-05 - acc: 1.0000\n",
      "Epoch 7/10\n",
      "4200/4200 [==============================] - 7s 2ms/step - loss: 4.1023e-04 - acc: 0.9998\n",
      "Epoch 8/10\n",
      "4200/4200 [==============================] - 7s 2ms/step - loss: 3.6915e-04 - acc: 0.9998\n",
      "Epoch 9/10\n",
      "4200/4200 [==============================] - 7s 2ms/step - loss: 5.6903e-06 - acc: 1.0000\n",
      "Epoch 10/10\n",
      "4200/4200 [==============================] - 7s 2ms/step - loss: 0.0010 - acc: 0.9995\n",
      "training loss 0.0014041985266117513\n",
      "training acc 0.9994047619047619\n",
      "65800/65800 [==============================] - 44s 667us/step\n",
      "testing loss 0.081760030163497\n",
      "testing acc 0.9880851063829788\n",
      "i value 0.09\n",
      "x train split (6300, 28, 28, 1)\n",
      "x test split (63700, 28, 28, 1)\n",
      "y train split (6300,)\n",
      "y test split (63700,)\n",
      "Epoch 1/10\n",
      "6300/6300 [==============================] - 11s 2ms/step - loss: 0.0257 - acc: 0.9957\n",
      "Epoch 2/10\n",
      "6300/6300 [==============================] - 11s 2ms/step - loss: 0.0057 - acc: 0.9986\n",
      "Epoch 3/10\n",
      "6300/6300 [==============================] - 11s 2ms/step - loss: 0.0057 - acc: 0.9989\n",
      "Epoch 4/10\n",
      "6300/6300 [==============================] - 11s 2ms/step - loss: 0.0010 - acc: 0.9997\n",
      "Epoch 5/10\n",
      "6300/6300 [==============================] - 11s 2ms/step - loss: 8.9570e-04 - acc: 0.9998\n",
      "Epoch 6/10\n",
      "6300/6300 [==============================] - 11s 2ms/step - loss: 0.0015 - acc: 0.9992\n",
      "Epoch 7/10\n",
      "6300/6300 [==============================] - 11s 2ms/step - loss: 0.0016 - acc: 0.9995\n",
      "Epoch 8/10\n",
      "6300/6300 [==============================] - 11s 2ms/step - loss: 6.3068e-04 - acc: 0.9995\n",
      "Epoch 9/10\n",
      "6300/6300 [==============================] - 11s 2ms/step - loss: 3.0327e-04 - acc: 0.9998\n",
      "Epoch 10/10\n",
      "6300/6300 [==============================] - 11s 2ms/step - loss: 8.7413e-04 - acc: 0.9997\n",
      "training loss 0.004393043451232621\n",
      "training acc 0.9990476190476191\n",
      "63700/63700 [==============================] - 42s 656us/step\n",
      "testing loss 0.0968011499834963\n",
      "testing acc 0.9861538461501033\n",
      "i value 0.12\n",
      "x train split (8400, 28, 28, 1)\n",
      "x test split (61600, 28, 28, 1)\n",
      "y train split (8400,)\n",
      "y test split (61600,)\n",
      "Epoch 1/10\n",
      "8400/8400 [==============================] - 14s 2ms/step - loss: 0.0355 - acc: 0.9950\n",
      "Epoch 2/10\n",
      "8400/8400 [==============================] - 14s 2ms/step - loss: 0.0218 - acc: 0.9970\n",
      "Epoch 3/10\n",
      "8400/8400 [==============================] - 14s 2ms/step - loss: 0.0091 - acc: 0.9987\n",
      "Epoch 4/10\n",
      "8400/8400 [==============================] - 14s 2ms/step - loss: 0.0091 - acc: 0.9988\n",
      "Epoch 5/10\n",
      "8400/8400 [==============================] - 15s 2ms/step - loss: 0.0041 - acc: 0.9990\n",
      "Epoch 6/10\n",
      "8400/8400 [==============================] - 14s 2ms/step - loss: 0.0046 - acc: 0.9992\n",
      "Epoch 7/10\n",
      "8400/8400 [==============================] - 14s 2ms/step - loss: 0.0066 - acc: 0.9986\n",
      "Epoch 8/10\n",
      "8400/8400 [==============================] - 14s 2ms/step - loss: 0.0028 - acc: 0.9995\n",
      "Epoch 9/10\n",
      "8400/8400 [==============================] - 14s 2ms/step - loss: 0.0061 - acc: 0.9983\n",
      "Epoch 10/10\n",
      "8400/8400 [==============================] - 14s 2ms/step - loss: 0.0025 - acc: 0.9996\n",
      "training loss 0.010219839683848087\n",
      "training acc 0.9983809523809525\n",
      "61600/61600 [==============================] - 41s 662us/step\n",
      "testing loss 0.10360970927562708\n",
      "testing acc 0.9870941558441558\n",
      "i value 0.15\n",
      "x train split (10500, 28, 28, 1)\n",
      "x test split (59500, 28, 28, 1)\n",
      "y train split (10500,)\n",
      "y test split (59500,)\n",
      "Epoch 1/10\n",
      "10500/10500 [==============================] - 18s 2ms/step - loss: 0.0184 - acc: 0.9972\n",
      "Epoch 2/10\n",
      "10500/10500 [==============================] - 18s 2ms/step - loss: 0.0113 - acc: 0.9982\n",
      "Epoch 3/10\n",
      "10500/10500 [==============================] - 18s 2ms/step - loss: 0.0089 - acc: 0.9987\n",
      "Epoch 4/10\n",
      "10500/10500 [==============================] - 18s 2ms/step - loss: 0.0066 - acc: 0.9990\n",
      "Epoch 5/10\n",
      "10500/10500 [==============================] - 20s 2ms/step - loss: 0.0080 - acc: 0.9987\n",
      "Epoch 6/10\n",
      "10500/10500 [==============================] - 35s 3ms/step - loss: 0.0047 - acc: 0.9992\n",
      "Epoch 7/10\n",
      "10500/10500 [==============================] - 36s 3ms/step - loss: 0.0042 - acc: 0.9995\n",
      "Epoch 8/10\n",
      "10500/10500 [==============================] - 36s 3ms/step - loss: 0.0018 - acc: 0.9998\n",
      "Epoch 9/10\n",
      "10500/10500 [==============================] - 35s 3ms/step - loss: 0.0022 - acc: 0.9996\n",
      "Epoch 10/10\n",
      "10500/10500 [==============================] - 36s 3ms/step - loss: 0.0038 - acc: 0.9995\n",
      "training loss 0.0069945489748118135\n",
      "training acc 0.998952380952381\n",
      "59500/59500 [==============================] - 68s 1ms/step\n",
      "testing loss 0.09802960000051915\n",
      "testing acc 0.9879495798319328\n",
      "i value 0.18\n",
      "x train split (12600, 28, 28, 1)\n",
      "x test split (57400, 28, 28, 1)\n",
      "y train split (12600,)\n",
      "y test split (57400,)\n",
      "Epoch 1/10\n",
      "12600/12600 [==============================] - 43s 3ms/step - loss: 0.0214 - acc: 0.9975\n",
      "Epoch 2/10\n",
      "12600/12600 [==============================] - 42s 3ms/step - loss: 0.0139 - acc: 0.9981\n",
      "Epoch 3/10\n",
      "12600/12600 [==============================] - 43s 3ms/step - loss: 0.0050 - acc: 0.9993\n",
      "Epoch 6/10\n",
      "12600/12600 [==============================] - 43s 3ms/step - loss: 0.0073 - acc: 0.9990\n",
      "Epoch 7/10\n",
      "12600/12600 [==============================] - 43s 3ms/step - loss: 0.0039 - acc: 0.9994\n",
      "Epoch 8/10\n",
      "12600/12600 [==============================] - 43s 3ms/step - loss: 0.0067 - acc: 0.9989\n",
      "Epoch 9/10\n",
      "12600/12600 [==============================] - 627s 50ms/step - loss: 0.0046 - acc: 0.9994\n",
      "Epoch 10/10\n",
      "12600/12600 [==============================] - 21s 2ms/step - loss: 0.0033 - acc: 0.9997\n",
      "training loss 0.00787811715286291\n",
      "training acc 0.9989682539682541\n",
      "57400/57400 [==============================] - 32s 554us/step\n",
      "testing loss 0.11026766223803734\n",
      "testing acc 0.9875609756014488\n",
      "i value 0.21\n",
      "x train split (14700, 28, 28, 1)\n",
      "x test split (55300, 28, 28, 1)\n",
      "y train split (14700,)\n",
      "y test split (55300,)\n",
      "Epoch 1/10\n",
      "14700/14700 [==============================] - 20s 1ms/step - loss: 0.0157 - acc: 0.9974\n",
      "Epoch 2/10\n",
      "14700/14700 [==============================] - 24s 2ms/step - loss: 0.0134 - acc: 0.9980\n",
      "Epoch 3/10\n",
      "14700/14700 [==============================] - 25s 2ms/step - loss: 0.0125 - acc: 0.9979\n",
      "Epoch 4/10\n"
     ]
    },
    {
     "name": "stdout",
     "output_type": "stream",
     "text": [
      "14700/14700 [==============================] - 26s 2ms/step - loss: 0.0087 - acc: 0.9988\n",
      "Epoch 5/10\n",
      "14700/14700 [==============================] - 25s 2ms/step - loss: 0.0073 - acc: 0.9988\n",
      "Epoch 6/10\n",
      "14700/14700 [==============================] - 25s 2ms/step - loss: 0.0065 - acc: 0.9988\n",
      "Epoch 7/10\n",
      "14700/14700 [==============================] - 25s 2ms/step - loss: 0.0052 - acc: 0.9993\n",
      "Epoch 8/10\n",
      "14700/14700 [==============================] - 25s 2ms/step - loss: 0.0049 - acc: 0.9993: 1s - los\n",
      "Epoch 9/10\n",
      "14700/14700 [==============================] - 26s 2ms/step - loss: 0.0045 - acc: 0.9993\n",
      "Epoch 10/10\n",
      "14700/14700 [==============================] - 25s 2ms/step - loss: 0.0042 - acc: 0.9993\n",
      "training loss 0.008301840251165314\n",
      "training acc 0.998673469389377\n",
      "55300/55300 [==============================] - 37s 666us/step\n",
      "testing loss 0.11553776214661214\n",
      "testing acc 0.9874321880650995\n",
      "i value 0.24\n",
      "x train split (16800, 28, 28, 1)\n",
      "x test split (53200, 28, 28, 1)\n",
      "y train split (16800,)\n",
      "y test split (53200,)\n",
      "Epoch 1/10\n",
      "16800/16800 [==============================] - 26s 2ms/step - loss: 0.0245 - acc: 0.9970\n",
      "Epoch 2/10\n",
      "16800/16800 [==============================] - 26s 2ms/step - loss: 0.0160 - acc: 0.9979\n",
      "Epoch 3/10\n",
      "16800/16800 [==============================] - 25s 2ms/step - loss: 0.0095 - acc: 0.9988\n",
      "Epoch 4/10\n",
      "16800/16800 [==============================] - 26s 2ms/step - loss: 0.0090 - acc: 0.9987\n",
      "Epoch 5/10\n",
      "16800/16800 [==============================] - 27s 2ms/step - loss: 0.0078 - acc: 0.9987: 1s - loss: 0.00\n",
      "Epoch 6/10\n",
      "16800/16800 [==============================] - 29s 2ms/step - loss: 0.0082 - acc: 0.9990\n",
      "Epoch 7/10\n",
      "16800/16800 [==============================] - 27s 2ms/step - loss: 0.0098 - acc: 0.9989\n",
      "Epoch 8/10\n",
      "16800/16800 [==============================] - 26s 2ms/step - loss: 0.0082 - acc: 0.9991: 0s - loss: 0.0083 - acc:\n",
      "Epoch 9/10\n",
      "16800/16800 [==============================] - 26s 2ms/step - loss: 0.0073 - acc: 0.9992\n",
      "Epoch 10/10\n",
      "16800/16800 [==============================] - 26s 2ms/step - loss: 0.0056 - acc: 0.9995\n",
      "training loss 0.010586760805298991\n",
      "training acc 0.998690476190476\n",
      "53200/53200 [==============================] - 34s 644us/step\n",
      "testing loss 0.10557406589353391\n",
      "testing acc 0.9890789473684211\n",
      "i value 0.27\n",
      "x train split (18900, 28, 28, 1)\n",
      "x test split (51100, 28, 28, 1)\n",
      "y train split (18900,)\n",
      "y test split (51100,)\n",
      "Epoch 1/10\n",
      "18900/18900 [==============================] - 32s 2ms/step - loss: 0.0207 - acc: 0.9974\n",
      "Epoch 2/10\n",
      "18900/18900 [==============================] - 31s 2ms/step - loss: 0.0146 - acc: 0.9977\n",
      "Epoch 3/10\n",
      "18900/18900 [==============================] - 32s 2ms/step - loss: 0.0130 - acc: 0.9980\n",
      "Epoch 4/10\n",
      "18900/18900 [==============================] - 32s 2ms/step - loss: 0.0092 - acc: 0.9987\n",
      "Epoch 5/10\n",
      "18900/18900 [==============================] - 32s 2ms/step - loss: 0.0086 - acc: 0.9989\n",
      "Epoch 6/10\n",
      "18900/18900 [==============================] - 31s 2ms/step - loss: 0.0044 - acc: 0.9993\n",
      "Epoch 7/10\n",
      "18900/18900 [==============================] - 30s 2ms/step - loss: 0.0048 - acc: 0.9993\n",
      "Epoch 8/10\n",
      "18900/18900 [==============================] - 32s 2ms/step - loss: 0.0047 - acc: 0.9994\n",
      "Epoch 9/10\n",
      "18900/18900 [==============================] - 32s 2ms/step - loss: 0.0052 - acc: 0.9992\n",
      "Epoch 10/10\n",
      "18900/18900 [==============================] - 32s 2ms/step - loss: 0.0056 - acc: 0.9992\n",
      "training loss 0.009083557069353685\n",
      "training acc 0.9987195767195768\n",
      "51100/51100 [==============================] - 34s 665us/step\n",
      "testing loss 0.10202567057350709\n",
      "testing acc 0.989706457925636\n",
      "i value 0.30000000000000004\n",
      "x train split (21000, 28, 28, 1)\n",
      "x test split (49000, 28, 28, 1)\n",
      "y train split (21000,)\n",
      "y test split (49000,)\n",
      "Epoch 1/10\n",
      "21000/21000 [==============================] - 34s 2ms/step - loss: 0.0217 - acc: 0.9977\n",
      "Epoch 2/10\n",
      "21000/21000 [==============================] - 31s 1ms/step - loss: 0.0117 - acc: 0.9985\n",
      "Epoch 3/10\n",
      "21000/21000 [==============================] - 32s 2ms/step - loss: 0.0075 - acc: 0.9990\n",
      "Epoch 4/10\n",
      "21000/21000 [==============================] - 33s 2ms/step - loss: 0.0090 - acc: 0.9989\n",
      "Epoch 5/10\n",
      "21000/21000 [==============================] - 32s 2ms/step - loss: 0.0073 - acc: 0.9991\n",
      "Epoch 6/10\n",
      "21000/21000 [==============================] - 35s 2ms/step - loss: 0.0073 - acc: 0.9992\n",
      "Epoch 7/10\n",
      "21000/21000 [==============================] - 35s 2ms/step - loss: 0.0067 - acc: 0.9992\n",
      "Epoch 8/10\n",
      "21000/21000 [==============================] - 33s 2ms/step - loss: 0.0047 - acc: 0.9993\n",
      "Epoch 9/10\n",
      "21000/21000 [==============================] - 30s 1ms/step - loss: 0.0040 - acc: 0.9995\n",
      "Epoch 10/10\n",
      "21000/21000 [==============================] - 32s 2ms/step - loss: 0.0050 - acc: 0.9994: 0s - loss: 0.0051 - a\n",
      "training loss 0.008482291300181688\n",
      "training acc 0.9989904761904762\n",
      "49000/49000 [==============================] - 31s 624us/step\n",
      "testing loss 0.11093999905982357\n",
      "testing acc 0.9896122448979592\n",
      "i value 0.32999999999999996\n",
      "x train split (23099, 28, 28, 1)\n",
      "x test split (46901, 28, 28, 1)\n",
      "y train split (23099,)\n",
      "y test split (46901,)\n",
      "Epoch 1/10\n",
      "23099/23099 [==============================] - 37s 2ms/step - loss: 0.0126 - acc: 0.9988\n",
      "Epoch 2/10\n",
      "23099/23099 [==============================] - 39s 2ms/step - loss: 0.0094 - acc: 0.9992\n",
      "Epoch 3/10\n",
      "23099/23099 [==============================] - 37s 2ms/step - loss: 0.0116 - acc: 0.9984\n",
      "Epoch 4/10\n",
      "23099/23099 [==============================] - 36s 2ms/step - loss: 0.0079 - acc: 0.9990\n",
      "Epoch 5/10\n",
      "23099/23099 [==============================] - 39s 2ms/step - loss: 0.0035 - acc: 0.9995\n",
      "Epoch 6/10\n",
      "23099/23099 [==============================] - 40s 2ms/step - loss: 0.0058 - acc: 0.9993\n",
      "Epoch 7/10\n",
      "23099/23099 [==============================] - 40s 2ms/step - loss: 0.0071 - acc: 0.9992\n",
      "Epoch 8/10\n",
      "23099/23099 [==============================] - 36s 2ms/step - loss: 0.0030 - acc: 0.9997\n",
      "Epoch 9/10\n",
      "23099/23099 [==============================] - 33s 1ms/step - loss: 0.0043 - acc: 0.9995\n",
      "Epoch 10/10\n",
      "23099/23099 [==============================] - 38s 2ms/step - loss: 0.0045 - acc: 0.9993\n",
      "training loss 0.006976952132401032\n",
      "training acc 0.9991904411446384\n",
      "46901/46901 [==============================] - 32s 675us/step\n",
      "testing loss 0.10938265072655874\n",
      "testing acc 0.9900215347220741\n",
      "i value 0.36\n",
      "x train split (25200, 28, 28, 1)\n",
      "x test split (44800, 28, 28, 1)\n",
      "y train split (25200,)\n",
      "y test split (44800,)\n",
      "Epoch 1/10\n",
      "25200/25200 [==============================] - 39s 2ms/step - loss: 0.0102 - acc: 0.9985\n",
      "Epoch 2/10\n",
      "25200/25200 [==============================] - 39s 2ms/step - loss: 0.0091 - acc: 0.9988\n",
      "Epoch 3/10\n",
      "25200/25200 [==============================] - 40s 2ms/step - loss: 0.0097 - acc: 0.9989\n",
      "Epoch 4/10\n",
      "25200/25200 [==============================] - 43s 2ms/step - loss: 0.0055 - acc: 0.9994\n",
      "Epoch 5/10\n",
      "25200/25200 [==============================] - 43s 2ms/step - loss: 0.0063 - acc: 0.9994\n",
      "Epoch 6/10\n",
      "25200/25200 [==============================] - 38s 2ms/step - loss: 0.0077 - acc: 0.9992\n",
      "Epoch 7/10\n",
      "25200/25200 [==============================] - 22s 893us/step - loss: 0.0065 - acc: 0.9992\n",
      "Epoch 8/10\n",
      "25200/25200 [==============================] - 25s 984us/step - loss: 0.0058 - acc: 0.9994\n",
      "Epoch 9/10\n",
      "27300/27300 [==============================] - 26s 955us/step - loss: 0.0177 - acc: 0.99810s - loss: 0.0177 - acc: 0.998\n",
      "Epoch 2/10\n",
      "27300/27300 [==============================] - 26s 942us/step - loss: 0.0179 - acc: 0.99810s - loss: 0.0167 \n",
      "Epoch 3/10\n",
      "27300/27300 [==============================] - 26s 943us/step - loss: 0.0098 - acc: 0.9990\n",
      "Epoch 4/10\n",
      "27300/27300 [==============================] - 26s 943us/step - loss: 0.0127 - acc: 0.9988\n",
      "Epoch 5/10\n",
      "27300/27300 [==============================] - 26s 949us/step - loss: 0.0104 - acc: 0.99891s - loss: \n",
      "Epoch 6/10\n",
      " 9248/27300 [=========>....................] - ETA: 17s - loss: 0.0107 - acc: 0.9987"
     ]
    },
    {
     "name": "stderr",
     "output_type": "stream",
     "text": [
      "IOPub message rate exceeded.\n",
      "The notebook server will temporarily stop sending output\n",
      "to the client in order to avoid crashing it.\n",
      "To change this limit, set the config variable\n",
      "`--NotebookApp.iopub_msg_rate_limit`.\n",
      "\n",
      "Current values:\n",
      "NotebookApp.iopub_msg_rate_limit=1000.0 (msgs/sec)\n",
      "NotebookApp.rate_limit_window=3.0 (secs)\n",
      "\n"
     ]
    },
    {
     "name": "stdout",
     "output_type": "stream",
     "text": [
      "29400/29400 [==============================] - 28s 954us/step - loss: 0.0129 - acc: 0.9988\n",
      "Epoch 5/10\n",
      "29400/29400 [==============================] - 28s 954us/step - loss: 0.0157 - acc: 0.9986\n",
      "Epoch 6/10\n",
      "29400/29400 [==============================] - 28s 955us/step - loss: 0.0098 - acc: 0.9991\n",
      "Epoch 7/10\n",
      "29400/29400 [==============================] - 28s 946us/step - loss: 0.0116 - acc: 0.9989\n",
      "Epoch 8/10\n",
      "19424/29400 [==================>...........] - ETA: 9s - loss: 0.0118 - acc: 0.9989"
     ]
    },
    {
     "name": "stderr",
     "output_type": "stream",
     "text": [
      "IOPub message rate exceeded.\n",
      "The notebook server will temporarily stop sending output\n",
      "to the client in order to avoid crashing it.\n",
      "To change this limit, set the config variable\n",
      "`--NotebookApp.iopub_msg_rate_limit`.\n",
      "\n",
      "Current values:\n",
      "NotebookApp.iopub_msg_rate_limit=1000.0 (msgs/sec)\n",
      "NotebookApp.rate_limit_window=3.0 (secs)\n",
      "\n"
     ]
    },
    {
     "name": "stdout",
     "output_type": "stream",
     "text": [
      "31499/31499 [==============================] - 30s 940us/step - loss: 0.0152 - acc: 0.9986\n",
      "Epoch 5/10\n",
      "31499/31499 [==============================] - 30s 939us/step - loss: 0.0147 - acc: 0.9985\n",
      "Epoch 6/10\n",
      "12512/31499 [==========>...................] - ETA: 17s - loss: 0.0113 - acc: 0.9989"
     ]
    },
    {
     "name": "stderr",
     "output_type": "stream",
     "text": [
      "IOPub message rate exceeded.\n",
      "The notebook server will temporarily stop sending output\n",
      "to the client in order to avoid crashing it.\n",
      "To change this limit, set the config variable\n",
      "`--NotebookApp.iopub_msg_rate_limit`.\n",
      "\n",
      "Current values:\n",
      "NotebookApp.iopub_msg_rate_limit=1000.0 (msgs/sec)\n",
      "NotebookApp.rate_limit_window=3.0 (secs)\n",
      "\n"
     ]
    },
    {
     "name": "stdout",
     "output_type": "stream",
     "text": [
      "31499/31499 [==============================] - 30s 941us/step - loss: 0.0083 - acc: 0.9992\n",
      "Epoch 9/10\n",
      "31499/31499 [==============================] - 30s 940us/step - loss: 0.0096 - acc: 0.9991\n",
      "Epoch 10/10\n",
      "31499/31499 [==============================] - 30s 945us/step - loss: 0.0084 - acc: 0.9993\n",
      "training loss 0.012685476754689895\n",
      "training acc 0.9988031366075114\n",
      "32320/38501 [========================>.....] - ETA: 2s"
     ]
    },
    {
     "name": "stderr",
     "output_type": "stream",
     "text": [
      "IOPub message rate exceeded.\n",
      "The notebook server will temporarily stop sending output\n",
      "to the client in order to avoid crashing it.\n",
      "To change this limit, set the config variable\n",
      "`--NotebookApp.iopub_msg_rate_limit`.\n",
      "\n",
      "Current values:\n",
      "NotebookApp.iopub_msg_rate_limit=1000.0 (msgs/sec)\n",
      "NotebookApp.rate_limit_window=3.0 (secs)\n",
      "\n"
     ]
    },
    {
     "name": "stdout",
     "output_type": "stream",
     "text": [
      "33600/33600 [==============================] - 32s 939us/step - loss: 0.0130 - acc: 0.9986\n",
      "Epoch 8/10\n",
      "33600/33600 [==============================] - 32s 941us/step - loss: 0.0110 - acc: 0.9991\n",
      "Epoch 9/10\n",
      "33600/33600 [==============================] - 32s 943us/step - loss: 0.0098 - acc: 0.9990\n",
      "Epoch 10/10\n",
      "33600/33600 [==============================] - 32s 944us/step - loss: 0.0086 - acc: 0.9991\n",
      "training loss 0.014566655318933369\n",
      "training acc 0.9986011904761904\n",
      "36400/36400 [==============================] - 13s 357us/step\n",
      "testing loss 0.12116540684983412\n",
      "testing acc 0.9897527472527472\n",
      "i value 0.51\n",
      "x train split (35700, 28, 28, 1)\n",
      "x test split (34300, 28, 28, 1)\n",
      "y train split (35700,)\n",
      "y test split (34300,)\n",
      "Epoch 1/10\n",
      " 7648/35700 [=====>........................] - ETA: 26s - loss: 0.0162 - acc: 0.9986"
     ]
    },
    {
     "name": "stderr",
     "output_type": "stream",
     "text": [
      "IOPub message rate exceeded.\n",
      "The notebook server will temporarily stop sending output\n",
      "to the client in order to avoid crashing it.\n",
      "To change this limit, set the config variable\n",
      "`--NotebookApp.iopub_msg_rate_limit`.\n",
      "\n",
      "Current values:\n",
      "NotebookApp.iopub_msg_rate_limit=1000.0 (msgs/sec)\n",
      "NotebookApp.rate_limit_window=3.0 (secs)\n",
      "\n"
     ]
    },
    {
     "name": "stdout",
     "output_type": "stream",
     "text": [
      "35700/35700 [==============================] - 34s 943us/step - loss: 0.0132 - acc: 0.99870s - loss: 0.0126 -\n",
      "Epoch 9/10\n",
      "35700/35700 [==============================] - 34s 942us/step - loss: 0.0115 - acc: 0.9991\n",
      "Epoch 10/10\n",
      "35700/35700 [==============================] - 34s 943us/step - loss: 0.0109 - acc: 0.9990\n",
      "training loss 0.013682735956926706\n",
      "training acc 0.9987563025210084\n",
      "34300/34300 [==============================] - 12s 360us/step\n",
      "testing loss 0.12192129225602713\n",
      "testing acc 0.99\n",
      "i value 0.54\n",
      "x train split (37800, 28, 28, 1)\n",
      "x test split (32200, 28, 28, 1)\n",
      "y train split (37800,)\n",
      "y test split (32200,)\n",
      "Epoch 1/10\n",
      "20960/37800 [===============>..............] - ETA: 15s - loss: 0.0249 - acc: 0.9980 ETA: 15s - loss: 0.0250 - acc: "
     ]
    },
    {
     "name": "stderr",
     "output_type": "stream",
     "text": [
      "IOPub message rate exceeded.\n",
      "The notebook server will temporarily stop sending output\n",
      "to the client in order to avoid crashing it.\n",
      "To change this limit, set the config variable\n",
      "`--NotebookApp.iopub_msg_rate_limit`.\n",
      "\n",
      "Current values:\n",
      "NotebookApp.iopub_msg_rate_limit=1000.0 (msgs/sec)\n",
      "NotebookApp.rate_limit_window=3.0 (secs)\n",
      "\n"
     ]
    },
    {
     "name": "stdout",
     "output_type": "stream",
     "text": [
      "37800/37800 [==============================] - 36s 940us/step - loss: 0.0111 - acc: 0.9990\n",
      "Epoch 10/10\n",
      "37800/37800 [==============================] - 36s 941us/step - loss: 0.0121 - acc: 0.9989\n",
      "training loss 0.014541613432056667\n",
      "training acc 0.9987513227513227\n",
      "32200/32200 [==============================] - 12s 359us/step\n",
      "testing loss 0.11930965171707189\n",
      "testing acc 0.9908385093167702\n",
      "i value 0.5700000000000001\n",
      "x train split (39900, 28, 28, 1)\n",
      "x test split (30100, 28, 28, 1)\n",
      "y train split (39900,)\n",
      "y test split (30100,)\n",
      "Epoch 1/10\n",
      "39900/39900 [==============================] - 38s 941us/step - loss: 0.0213 - acc: 0.99840s - loss: 0.0205 \n",
      "Epoch 2/10\n",
      "11680/39900 [=======>......................] - ETA: 26s - loss: 0.0153 - acc: 0.9987"
     ]
    },
    {
     "name": "stderr",
     "output_type": "stream",
     "text": [
      "IOPub message rate exceeded.\n",
      "The notebook server will temporarily stop sending output\n",
      "to the client in order to avoid crashing it.\n",
      "To change this limit, set the config variable\n",
      "`--NotebookApp.iopub_msg_rate_limit`.\n",
      "\n",
      "Current values:\n",
      "NotebookApp.iopub_msg_rate_limit=1000.0 (msgs/sec)\n",
      "NotebookApp.rate_limit_window=3.0 (secs)\n",
      "\n"
     ]
    },
    {
     "name": "stdout",
     "output_type": "stream",
     "text": [
      "39900/39900 [==============================] - 38s 942us/step - loss: 0.0136 - acc: 0.9989\n",
      "Epoch 9/10\n",
      "39900/39900 [==============================] - 38s 943us/step - loss: 0.0150 - acc: 0.9988\n",
      "Epoch 10/10\n",
      "39900/39900 [==============================] - 38s 946us/step - loss: 0.0165 - acc: 0.9986\n",
      "training loss 0.017207926811042672\n",
      "training acc 0.9986140350877193\n",
      "30100/30100 [==============================] - 11s 355us/step\n",
      "testing loss 0.11278481853741554\n",
      "testing acc 0.9911627906976744\n",
      "i value 0.6\n",
      "x train split (42000, 28, 28, 1)\n",
      "x test split (28000, 28, 28, 1)\n",
      "y train split (42000,)\n",
      "y test split (28000,)\n",
      "Epoch 1/10\n",
      "11872/42000 [=======>......................] - ETA: 28s - loss: 0.0243 - acc: 0.9977"
     ]
    },
    {
     "name": "stderr",
     "output_type": "stream",
     "text": [
      "IOPub message rate exceeded.\n",
      "The notebook server will temporarily stop sending output\n",
      "to the client in order to avoid crashing it.\n",
      "To change this limit, set the config variable\n",
      "`--NotebookApp.iopub_msg_rate_limit`.\n",
      "\n",
      "Current values:\n",
      "NotebookApp.iopub_msg_rate_limit=1000.0 (msgs/sec)\n",
      "NotebookApp.rate_limit_window=3.0 (secs)\n",
      "\n"
     ]
    },
    {
     "name": "stdout",
     "output_type": "stream",
     "text": [
      "42000/42000 [==============================] - 40s 946us/step - loss: 0.0162 - acc: 0.9987\n",
      "Epoch 8/10\n",
      "42000/42000 [==============================] - 40s 941us/step - loss: 0.0147 - acc: 0.9987\n",
      "Epoch 9/10\n",
      "42000/42000 [==============================] - 40s 950us/step - loss: 0.0164 - acc: 0.99854s - loss: 0.0158 - ac - ETA: 4s\n",
      "Epoch 10/10\n",
      "40800/42000 [============================>.] - ETA: 1s - loss: 0.0140 - acc: 0.9988-"
     ]
    },
    {
     "name": "stderr",
     "output_type": "stream",
     "text": [
      "IOPub message rate exceeded.\n",
      "The notebook server will temporarily stop sending output\n",
      "to the client in order to avoid crashing it.\n",
      "To change this limit, set the config variable\n",
      "`--NotebookApp.iopub_msg_rate_limit`.\n",
      "\n",
      "Current values:\n",
      "NotebookApp.iopub_msg_rate_limit=1000.0 (msgs/sec)\n",
      "NotebookApp.rate_limit_window=3.0 (secs)\n",
      "\n"
     ]
    },
    {
     "name": "stdout",
     "output_type": "stream",
     "text": [
      "44100/44100 [==============================] - 41s 939us/step - loss: 0.0157 - acc: 0.99880s - loss: 0.0158 - acc:\n",
      "Epoch 7/10\n",
      "44100/44100 [==============================] - 42s 944us/step - loss: 0.0165 - acc: 0.9988\n",
      "Epoch 8/10\n",
      "44100/44100 [==============================] - 42s 945us/step - loss: 0.0165 - acc: 0.9987\n",
      "Epoch 9/10\n",
      "24352/44100 [===============>..............] - ETA: 18s - loss: 0.0195 - acc: 0.9986"
     ]
    },
    {
     "name": "stderr",
     "output_type": "stream",
     "text": [
      "IOPub message rate exceeded.\n",
      "The notebook server will temporarily stop sending output\n",
      "to the client in order to avoid crashing it.\n",
      "To change this limit, set the config variable\n",
      "`--NotebookApp.iopub_msg_rate_limit`.\n",
      "\n",
      "Current values:\n",
      "NotebookApp.iopub_msg_rate_limit=1000.0 (msgs/sec)\n",
      "NotebookApp.rate_limit_window=3.0 (secs)\n",
      "\n"
     ]
    },
    {
     "name": "stdout",
     "output_type": "stream",
     "text": [
      "46200/46200 [==============================] - 44s 943us/step - loss: 0.0167 - acc: 0.99862 - ETA: 0s - loss: 0.0170 \n",
      "Epoch 6/10\n",
      "46200/46200 [==============================] - 43s 942us/step - loss: 0.0176 - acc: 0.9986\n",
      "Epoch 7/10\n",
      "43744/46200 [===========================>..] - ETA: 2s - loss: 0.0189 - acc: 0.9985"
     ]
    },
    {
     "name": "stderr",
     "output_type": "stream",
     "text": [
      "IOPub message rate exceeded.\n",
      "The notebook server will temporarily stop sending output\n",
      "to the client in order to avoid crashing it.\n",
      "To change this limit, set the config variable\n",
      "`--NotebookApp.iopub_msg_rate_limit`.\n",
      "\n",
      "Current values:\n",
      "NotebookApp.iopub_msg_rate_limit=1000.0 (msgs/sec)\n",
      "NotebookApp.rate_limit_window=3.0 (secs)\n",
      "\n"
     ]
    },
    {
     "name": "stdout",
     "output_type": "stream",
     "text": [
      "48299/48299 [==============================] - 45s 941us/step - loss: 0.0225 - acc: 0.9983\n",
      "Epoch 3/10\n",
      "48299/48299 [==============================] - 46s 943us/step - loss: 0.0181 - acc: 0.9985\n",
      "Epoch 4/10\n",
      "48299/48299 [==============================] - 45s 940us/step - loss: 0.0188 - acc: 0.9986\n",
      "Epoch 5/10\n",
      "18912/48299 [==========>...................] - ETA: 27s - loss: 0.0170 - acc: 0.99"
     ]
    },
    {
     "name": "stderr",
     "output_type": "stream",
     "text": [
      "IOPub message rate exceeded.\n",
      "The notebook server will temporarily stop sending output\n",
      "to the client in order to avoid crashing it.\n",
      "To change this limit, set the config variable\n",
      "`--NotebookApp.iopub_msg_rate_limit`.\n",
      "\n",
      "Current values:\n",
      "NotebookApp.iopub_msg_rate_limit=1000.0 (msgs/sec)\n",
      "NotebookApp.rate_limit_window=3.0 (secs)\n",
      "\n"
     ]
    },
    {
     "name": "stdout",
     "output_type": "stream",
     "text": [
      "48299/48299 [==============================] - 46s 942us/step - loss: 0.0163 - acc: 0.9988\n",
      "Epoch 10/10\n",
      "48299/48299 [==============================] - 45s 939us/step - loss: 0.0139 - acc: 0.99891s \n",
      "training loss 0.0178730413890626\n",
      "training acc 0.9985879624836954\n",
      "21701/21701 [==============================] - 8s 364us/step\n",
      "testing loss 0.10856256593223508\n",
      "testing acc 0.9913828855813096\n",
      "i value 0.72\n",
      "x train split (50400, 28, 28, 1)\n",
      "x test split (19600, 28, 28, 1)\n",
      "y train split (50400,)\n",
      "y test split (19600,)\n",
      "Epoch 1/10\n",
      "50400/50400 [==============================] - 47s 942us/step - loss: 0.0215 - acc: 0.9983\n",
      "Epoch 2/10\n",
      " 4832/50400 [=>............................] - ETA: 42s - loss: 0.0328 - acc: 0.9977 ETA: 42s - loss: 0.0280 - a"
     ]
    },
    {
     "name": "stderr",
     "output_type": "stream",
     "text": [
      "IOPub message rate exceeded.\n",
      "The notebook server will temporarily stop sending output\n",
      "to the client in order to avoid crashing it.\n",
      "To change this limit, set the config variable\n",
      "`--NotebookApp.iopub_msg_rate_limit`.\n",
      "\n",
      "Current values:\n",
      "NotebookApp.iopub_msg_rate_limit=1000.0 (msgs/sec)\n",
      "NotebookApp.rate_limit_window=3.0 (secs)\n",
      "\n"
     ]
    },
    {
     "name": "stdout",
     "output_type": "stream",
     "text": [
      "50400/50400 [==============================] - 47s 941us/step - loss: 0.0192 - acc: 0.9986\n",
      "Epoch 6/10\n",
      "48800/50400 [============================>.] - ETA: 1s - loss: 0.0167 - acc: 0.998"
     ]
    },
    {
     "name": "stderr",
     "output_type": "stream",
     "text": [
      "IOPub message rate exceeded.\n",
      "The notebook server will temporarily stop sending output\n",
      "to the client in order to avoid crashing it.\n",
      "To change this limit, set the config variable\n",
      "`--NotebookApp.iopub_msg_rate_limit`.\n",
      "\n",
      "Current values:\n",
      "NotebookApp.iopub_msg_rate_limit=1000.0 (msgs/sec)\n",
      "NotebookApp.rate_limit_window=3.0 (secs)\n",
      "\n"
     ]
    },
    {
     "name": "stdout",
     "output_type": "stream",
     "text": [
      "50400/50400 [==============================] - 47s 942us/step - loss: 0.0154 - acc: 0.9988\n",
      "Epoch 9/10\n",
      "12320/50400 [======>.......................] - ETA: 35s - loss: 0.0191 - acc: 0.9985"
     ]
    },
    {
     "name": "stderr",
     "output_type": "stream",
     "text": [
      "IOPub message rate exceeded.\n",
      "The notebook server will temporarily stop sending output\n",
      "to the client in order to avoid crashing it.\n",
      "To change this limit, set the config variable\n",
      "`--NotebookApp.iopub_msg_rate_limit`.\n",
      "\n",
      "Current values:\n",
      "NotebookApp.iopub_msg_rate_limit=1000.0 (msgs/sec)\n",
      "NotebookApp.rate_limit_window=3.0 (secs)\n",
      "\n"
     ]
    },
    {
     "name": "stdout",
     "output_type": "stream",
     "text": [
      "52500/52500 [==============================] - 49s 941us/step - loss: 0.0202 - acc: 0.9985\n",
      "Epoch 3/10\n",
      "44576/52500 [========================>.....] - ETA: 7s - loss: 0.0177 - acc: 0.9987- ETA: "
     ]
    },
    {
     "name": "stderr",
     "output_type": "stream",
     "text": [
      "IOPub message rate exceeded.\n",
      "The notebook server will temporarily stop sending output\n",
      "to the client in order to avoid crashing it.\n",
      "To change this limit, set the config variable\n",
      "`--NotebookApp.iopub_msg_rate_limit`.\n",
      "\n",
      "Current values:\n",
      "NotebookApp.iopub_msg_rate_limit=1000.0 (msgs/sec)\n",
      "NotebookApp.rate_limit_window=3.0 (secs)\n",
      "\n"
     ]
    },
    {
     "name": "stdout",
     "output_type": "stream",
     "text": [
      "52500/52500 [==============================] - 49s 941us/step - loss: 0.0178 - acc: 0.99870s - loss: 0.0180 - ac\n",
      "Epoch 5/10\n",
      "47328/52500 [==========================>...] - ETA: 4s - loss: 0.0184 - acc: 0.9985"
     ]
    },
    {
     "name": "stderr",
     "output_type": "stream",
     "text": [
      "IOPub message rate exceeded.\n",
      "The notebook server will temporarily stop sending output\n",
      "to the client in order to avoid crashing it.\n",
      "To change this limit, set the config variable\n",
      "`--NotebookApp.iopub_msg_rate_limit`.\n",
      "\n",
      "Current values:\n",
      "NotebookApp.iopub_msg_rate_limit=1000.0 (msgs/sec)\n",
      "NotebookApp.rate_limit_window=3.0 (secs)\n",
      "\n"
     ]
    },
    {
     "name": "stdout",
     "output_type": "stream",
     "text": [
      "52500/52500 [==============================] - 50s 945us/step - loss: 0.0146 - acc: 0.9988\n",
      "Epoch 9/10\n",
      "52500/52500 [==============================] - 53s 1ms/step - loss: 0.0190 - acc: 0.9985\n",
      "Epoch 10/10\n",
      "13600/52500 [======>.......................] - ETA: 39s - loss: 0.0184 - acc: 0.9983"
     ]
    },
    {
     "name": "stderr",
     "output_type": "stream",
     "text": [
      "IOPub message rate exceeded.\n",
      "The notebook server will temporarily stop sending output\n",
      "to the client in order to avoid crashing it.\n",
      "To change this limit, set the config variable\n",
      "`--NotebookApp.iopub_msg_rate_limit`.\n",
      "\n",
      "Current values:\n",
      "NotebookApp.iopub_msg_rate_limit=1000.0 (msgs/sec)\n",
      "NotebookApp.rate_limit_window=3.0 (secs)\n",
      "\n"
     ]
    },
    {
     "name": "stdout",
     "output_type": "stream",
     "text": [
      "54600/54600 [==============================] - 51s 941us/step - loss: 0.0209 - acc: 0.9983\n",
      "Epoch 2/10\n",
      "10016/54600 [====>.........................] - ETA: 42s - loss: 0.0185 - acc: 0.9985"
     ]
    },
    {
     "name": "stderr",
     "output_type": "stream",
     "text": [
      "IOPub message rate exceeded.\n",
      "The notebook server will temporarily stop sending output\n",
      "to the client in order to avoid crashing it.\n",
      "To change this limit, set the config variable\n",
      "`--NotebookApp.iopub_msg_rate_limit`.\n",
      "\n",
      "Current values:\n",
      "NotebookApp.iopub_msg_rate_limit=1000.0 (msgs/sec)\n",
      "NotebookApp.rate_limit_window=3.0 (secs)\n",
      "\n"
     ]
    },
    {
     "name": "stdout",
     "output_type": "stream",
     "text": [
      "54600/54600 [==============================] - 51s 940us/step - loss: 0.0196 - acc: 0.9985\n",
      "Epoch 6/10\n",
      "38016/54600 [===================>..........] - ETA: 15s - loss: 0.0148 - acc: 0.9990"
     ]
    },
    {
     "name": "stderr",
     "output_type": "stream",
     "text": [
      "IOPub message rate exceeded.\n",
      "The notebook server will temporarily stop sending output\n",
      "to the client in order to avoid crashing it.\n",
      "To change this limit, set the config variable\n",
      "`--NotebookApp.iopub_msg_rate_limit`.\n",
      "\n",
      "Current values:\n",
      "NotebookApp.iopub_msg_rate_limit=1000.0 (msgs/sec)\n",
      "NotebookApp.rate_limit_window=3.0 (secs)\n",
      "\n"
     ]
    },
    {
     "name": "stdout",
     "output_type": "stream",
     "text": [
      "54600/54600 [==============================] - 51s 943us/step - loss: 0.0166 - acc: 0.9987\n",
      "Epoch 8/10\n",
      "26208/54600 [=============>................] - ETA: 26s - loss: 0.0182 - acc: 0.9987"
     ]
    },
    {
     "name": "stderr",
     "output_type": "stream",
     "text": [
      "IOPub message rate exceeded.\n",
      "The notebook server will temporarily stop sending output\n",
      "to the client in order to avoid crashing it.\n",
      "To change this limit, set the config variable\n",
      "`--NotebookApp.iopub_msg_rate_limit`.\n",
      "\n",
      "Current values:\n",
      "NotebookApp.iopub_msg_rate_limit=1000.0 (msgs/sec)\n",
      "NotebookApp.rate_limit_window=3.0 (secs)\n",
      "\n"
     ]
    },
    {
     "name": "stdout",
     "output_type": "stream",
     "text": [
      "54600/54600 [==============================] - 51s 941us/step - loss: 0.0160 - acc: 0.9989\n",
      "Epoch 10/10\n",
      "54600/54600 [==============================] - 51s 940us/step - loss: 0.0187 - acc: 0.9986\n",
      "training loss 0.018234479002713015\n",
      "training acc 0.9986117216117215\n",
      "15400/15400 [==============================] - 5s 355us/step\n",
      "testing loss 0.11038513324805016\n",
      "testing acc 0.9916233766233766\n",
      "i value 0.81\n",
      "x train split (56700, 28, 28, 1)\n",
      "x test split (13300, 28, 28, 1)\n",
      "y train split (56700,)\n",
      "y test split (13300,)\n",
      "Epoch 1/10\n",
      "14944/56700 [======>.......................] - ETA: 39s - loss: 0.0182 - acc: 0.9986 ETA: 40s - loss: 0.01 - ETA: 40s - loss: 0.0189 - acc - ETA: 39s - loss: 0.0186"
     ]
    },
    {
     "name": "stderr",
     "output_type": "stream",
     "text": [
      "IOPub message rate exceeded.\n",
      "The notebook server will temporarily stop sending output\n",
      "to the client in order to avoid crashing it.\n",
      "To change this limit, set the config variable\n",
      "`--NotebookApp.iopub_msg_rate_limit`.\n",
      "\n",
      "Current values:\n",
      "NotebookApp.iopub_msg_rate_limit=1000.0 (msgs/sec)\n",
      "NotebookApp.rate_limit_window=3.0 (secs)\n",
      "\n"
     ]
    },
    {
     "name": "stdout",
     "output_type": "stream",
     "text": [
      "30752/56700 [===============>..............] - ETA: 24s - loss: 0.0214 - acc: 0.9984 ETA: 24s - loss: 0."
     ]
    },
    {
     "name": "stderr",
     "output_type": "stream",
     "text": [
      "IOPub message rate exceeded.\n",
      "The notebook server will temporarily stop sending output\n",
      "to the client in order to avoid crashing it.\n",
      "To change this limit, set the config variable\n",
      "`--NotebookApp.iopub_msg_rate_limit`.\n",
      "\n",
      "Current values:\n",
      "NotebookApp.iopub_msg_rate_limit=1000.0 (msgs/sec)\n",
      "NotebookApp.rate_limit_window=3.0 (secs)\n",
      "\n"
     ]
    },
    {
     "name": "stdout",
     "output_type": "stream",
     "text": [
      "56700/56700 [==============================] - 53s 939us/step - loss: 0.0163 - acc: 0.99871s\n",
      "Epoch 6/10\n",
      "51296/56700 [==========================>...] - ETA: 5s - loss: 0.0163 - acc: 0.998"
     ]
    },
    {
     "name": "stderr",
     "output_type": "stream",
     "text": [
      "IOPub message rate exceeded.\n",
      "The notebook server will temporarily stop sending output\n",
      "to the client in order to avoid crashing it.\n",
      "To change this limit, set the config variable\n",
      "`--NotebookApp.iopub_msg_rate_limit`.\n",
      "\n",
      "Current values:\n",
      "NotebookApp.iopub_msg_rate_limit=1000.0 (msgs/sec)\n",
      "NotebookApp.rate_limit_window=3.0 (secs)\n",
      "\n"
     ]
    },
    {
     "name": "stdout",
     "output_type": "stream",
     "text": [
      "56700/56700 [==============================] - 53s 942us/step - loss: 0.0179 - acc: 0.9986\n",
      "Epoch 8/10\n",
      "25824/56700 [============>.................] - ETA: 29s - loss: 0.0175 - acc: 0.9987"
     ]
    },
    {
     "name": "stderr",
     "output_type": "stream",
     "text": [
      "IOPub message rate exceeded.\n",
      "The notebook server will temporarily stop sending output\n",
      "to the client in order to avoid crashing it.\n",
      "To change this limit, set the config variable\n",
      "`--NotebookApp.iopub_msg_rate_limit`.\n",
      "\n",
      "Current values:\n",
      "NotebookApp.iopub_msg_rate_limit=1000.0 (msgs/sec)\n",
      "NotebookApp.rate_limit_window=3.0 (secs)\n",
      "\n"
     ]
    },
    {
     "name": "stdout",
     "output_type": "stream",
     "text": [
      "58800/58800 [==============================] - 55s 938us/step - loss: 0.0216 - acc: 0.9983\n",
      "Epoch 2/10\n",
      "49504/58800 [========================>.....] - ETA: 8s - loss: 0.0189 - acc: 0.9987- ETA: 9s - loss: 0.0190 - acc: "
     ]
    },
    {
     "name": "stderr",
     "output_type": "stream",
     "text": [
      "IOPub message rate exceeded.\n",
      "The notebook server will temporarily stop sending output\n",
      "to the client in order to avoid crashing it.\n",
      "To change this limit, set the config variable\n",
      "`--NotebookApp.iopub_msg_rate_limit`.\n",
      "\n",
      "Current values:\n",
      "NotebookApp.iopub_msg_rate_limit=1000.0 (msgs/sec)\n",
      "NotebookApp.rate_limit_window=3.0 (secs)\n",
      "\n"
     ]
    },
    {
     "name": "stdout",
     "output_type": "stream",
     "text": [
      "58800/58800 [==============================] - 55s 938us/step - loss: 0.0166 - acc: 0.99881s - loss: 0\n",
      "Epoch 4/10\n",
      "12896/58800 [=====>........................] - ETA: 43s - loss: 0.0203 - acc: 0.9984 ETA: 44s - loss: "
     ]
    },
    {
     "name": "stderr",
     "output_type": "stream",
     "text": [
      "IOPub message rate exceeded.\n",
      "The notebook server will temporarily stop sending output\n",
      "to the client in order to avoid crashing it.\n",
      "To change this limit, set the config variable\n",
      "`--NotebookApp.iopub_msg_rate_limit`.\n",
      "\n",
      "Current values:\n",
      "NotebookApp.iopub_msg_rate_limit=1000.0 (msgs/sec)\n",
      "NotebookApp.rate_limit_window=3.0 (secs)\n",
      "\n"
     ]
    },
    {
     "name": "stdout",
     "output_type": "stream",
     "text": [
      "58800/58800 [==============================] - 55s 942us/step - loss: 0.0169 - acc: 0.9988\n",
      "Epoch 7/10\n",
      "58800/58800 [==============================] - 55s 939us/step - loss: 0.0150 - acc: 0.9988\n",
      "Epoch 8/10\n",
      "32864/58800 [===============>..............] - ETA: 24s - loss: 0.0204 - acc: 0.9984 ETA: 24s - loss: 0.0205 - acc"
     ]
    },
    {
     "name": "stderr",
     "output_type": "stream",
     "text": [
      "IOPub message rate exceeded.\n",
      "The notebook server will temporarily stop sending output\n",
      "to the client in order to avoid crashing it.\n",
      "To change this limit, set the config variable\n",
      "`--NotebookApp.iopub_msg_rate_limit`.\n",
      "\n",
      "Current values:\n",
      "NotebookApp.iopub_msg_rate_limit=1000.0 (msgs/sec)\n",
      "NotebookApp.rate_limit_window=3.0 (secs)\n",
      "\n"
     ]
    },
    {
     "name": "stdout",
     "output_type": "stream",
     "text": [
      "60900/60900 [==============================] - 57s 937us/step - loss: 0.0195 - acc: 0.9986\n",
      "Epoch 2/10\n",
      "60900/60900 [==============================] - 57s 940us/step - loss: 0.0185 - acc: 0.9986\n",
      "Epoch 3/10\n",
      "60192/60900 [============================>.] - ETA: 0s - loss: 0.0174 - acc: 0.9987- ETA: 2s"
     ]
    },
    {
     "name": "stderr",
     "output_type": "stream",
     "text": [
      "IOPub message rate exceeded.\n",
      "The notebook server will temporarily stop sending output\n",
      "to the client in order to avoid crashing it.\n",
      "To change this limit, set the config variable\n",
      "`--NotebookApp.iopub_msg_rate_limit`.\n",
      "\n",
      "Current values:\n",
      "NotebookApp.iopub_msg_rate_limit=1000.0 (msgs/sec)\n",
      "NotebookApp.rate_limit_window=3.0 (secs)\n",
      "\n"
     ]
    },
    {
     "name": "stdout",
     "output_type": "stream",
     "text": [
      "60900/60900 [==============================] - 57s 937us/step - loss: 0.0154 - acc: 0.9989\n",
      "Epoch 7/10\n",
      "60900/60900 [==============================] - 57s 940us/step - loss: 0.0168 - acc: 0.9987\n",
      "Epoch 8/10\n",
      "60900/60900 [==============================] - 57s 938us/step - loss: 0.0162 - acc: 0.99880s - loss: 0.0161 -\n",
      "Epoch 9/10\n",
      " 5536/60900 [=>............................] - ETA: 52s - loss: 0.0178 - acc: 0.9987"
     ]
    },
    {
     "name": "stderr",
     "output_type": "stream",
     "text": [
      "IOPub message rate exceeded.\n",
      "The notebook server will temporarily stop sending output\n",
      "to the client in order to avoid crashing it.\n",
      "To change this limit, set the config variable\n",
      "`--NotebookApp.iopub_msg_rate_limit`.\n",
      "\n",
      "Current values:\n",
      "NotebookApp.iopub_msg_rate_limit=1000.0 (msgs/sec)\n",
      "NotebookApp.rate_limit_window=3.0 (secs)\n",
      "\n"
     ]
    },
    {
     "name": "stdout",
     "output_type": "stream",
     "text": [
      "63000/63000 [==============================] - 59s 937us/step - loss: 0.0229 - acc: 0.9983\n",
      "Epoch 3/10\n",
      "63000/63000 [==============================] - 59s 939us/step - loss: 0.0262 - acc: 0.9981\n",
      "Epoch 4/10\n",
      "33312/63000 [==============>...............] - ETA: 27s - loss: 0.0229 - acc: 0.9983"
     ]
    },
    {
     "name": "stderr",
     "output_type": "stream",
     "text": [
      "IOPub message rate exceeded.\n",
      "The notebook server will temporarily stop sending output\n",
      "to the client in order to avoid crashing it.\n",
      "To change this limit, set the config variable\n",
      "`--NotebookApp.iopub_msg_rate_limit`.\n",
      "\n",
      "Current values:\n",
      "NotebookApp.iopub_msg_rate_limit=1000.0 (msgs/sec)\n",
      "NotebookApp.rate_limit_window=3.0 (secs)\n",
      "\n"
     ]
    },
    {
     "name": "stdout",
     "output_type": "stream",
     "text": [
      "63000/63000 [==============================] - 59s 938us/step - loss: 0.0203 - acc: 0.99861s - \n",
      "Epoch 9/10\n",
      "63000/63000 [==============================] - 59s 941us/step - loss: 0.0199 - acc: 0.9986 2s  - ETA: 0s - loss: 0.0200 - acc:\n",
      "Epoch 10/10\n",
      "11744/63000 [====>.........................] - ETA: 48s - loss: 0.0178 - acc: 0.99"
     ]
    },
    {
     "name": "stderr",
     "output_type": "stream",
     "text": [
      "IOPub message rate exceeded.\n",
      "The notebook server will temporarily stop sending output\n",
      "to the client in order to avoid crashing it.\n",
      "To change this limit, set the config variable\n",
      "`--NotebookApp.iopub_msg_rate_limit`.\n",
      "\n",
      "Current values:\n",
      "NotebookApp.iopub_msg_rate_limit=1000.0 (msgs/sec)\n",
      "NotebookApp.rate_limit_window=3.0 (secs)\n",
      "\n"
     ]
    },
    {
     "name": "stdout",
     "output_type": "stream",
     "text": [
      "65099/65099 [==============================] - 61s 938us/step - loss: 0.0251 - acc: 0.99810s - loss: 0.0252 - acc: 0.\n",
      "Epoch 4/10\n",
      "65099/65099 [==============================] - 61s 938us/step - loss: 0.0226 - acc: 0.9984\n",
      "Epoch 5/10\n",
      "37184/65099 [================>.............] - ETA: 26s - loss: 0.0239 - acc: 0.9983"
     ]
    },
    {
     "name": "stderr",
     "output_type": "stream",
     "text": [
      "IOPub message rate exceeded.\n",
      "The notebook server will temporarily stop sending output\n",
      "to the client in order to avoid crashing it.\n",
      "To change this limit, set the config variable\n",
      "`--NotebookApp.iopub_msg_rate_limit`.\n",
      "\n",
      "Current values:\n",
      "NotebookApp.iopub_msg_rate_limit=1000.0 (msgs/sec)\n",
      "NotebookApp.rate_limit_window=3.0 (secs)\n",
      "\n"
     ]
    },
    {
     "name": "stdout",
     "output_type": "stream",
     "text": [
      "65099/65099 [==============================] - 61s 937us/step - loss: 0.0200 - acc: 0.9986\n",
      "Epoch 8/10\n",
      "65099/65099 [==============================] - 61s 937us/step - loss: 0.0206 - acc: 0.9985\n",
      "Epoch 9/10\n",
      "33056/65099 [==============>...............] - ETA: 30s - loss: 0.0225 - acc: 0.9983"
     ]
    },
    {
     "name": "stderr",
     "output_type": "stream",
     "text": [
      "IOPub message rate exceeded.\n",
      "The notebook server will temporarily stop sending output\n",
      "to the client in order to avoid crashing it.\n",
      "To change this limit, set the config variable\n",
      "`--NotebookApp.iopub_msg_rate_limit`.\n",
      "\n",
      "Current values:\n",
      "NotebookApp.iopub_msg_rate_limit=1000.0 (msgs/sec)\n",
      "NotebookApp.rate_limit_window=3.0 (secs)\n",
      "\n"
     ]
    },
    {
     "name": "stdout",
     "output_type": "stream",
     "text": [
      "67200/67200 [==============================] - 63s 939us/step - loss: 0.0194 - acc: 0.99852s - loss: 0.0197 - acc: 0 - ETA: 1s\n",
      "Epoch 3/10\n",
      "67200/67200 [==============================] - 63s 939us/step - loss: 0.0208 - acc: 0.9985\n",
      "Epoch 4/10\n",
      "22432/67200 [=========>....................] - ETA: 41s - loss: 0.0124 - acc: 0.99"
     ]
    },
    {
     "name": "stderr",
     "output_type": "stream",
     "text": [
      "IOPub message rate exceeded.\n",
      "The notebook server will temporarily stop sending output\n",
      "to the client in order to avoid crashing it.\n",
      "To change this limit, set the config variable\n",
      "`--NotebookApp.iopub_msg_rate_limit`.\n",
      "\n",
      "Current values:\n",
      "NotebookApp.iopub_msg_rate_limit=1000.0 (msgs/sec)\n",
      "NotebookApp.rate_limit_window=3.0 (secs)\n",
      "\n"
     ]
    },
    {
     "name": "stdout",
     "output_type": "stream",
     "text": [
      "67200/67200 [==============================] - 63s 939us/step - loss: 0.0160 - acc: 0.9989\n",
      "Epoch 8/10\n",
      "67200/67200 [==============================] - 63s 940us/step - loss: 0.0169 - acc: 0.9988\n",
      "Epoch 9/10\n",
      "38304/67200 [================>.............] - ETA: 27s - loss: 0.0160 - acc: 0.9989"
     ]
    },
    {
     "name": "stderr",
     "output_type": "stream",
     "text": [
      "IOPub message rate exceeded.\n",
      "The notebook server will temporarily stop sending output\n",
      "to the client in order to avoid crashing it.\n",
      "To change this limit, set the config variable\n",
      "`--NotebookApp.iopub_msg_rate_limit`.\n",
      "\n",
      "Current values:\n",
      "NotebookApp.iopub_msg_rate_limit=1000.0 (msgs/sec)\n",
      "NotebookApp.rate_limit_window=3.0 (secs)\n",
      "\n"
     ]
    },
    {
     "name": "stdout",
     "output_type": "stream",
     "text": [
      "69300/69300 [==============================] - 65s 940us/step - loss: 0.0171 - acc: 0.9988\n",
      "Epoch 3/10\n",
      "69300/69300 [==============================] - 65s 938us/step - loss: 0.0165 - acc: 0.9989\n",
      "Epoch 4/10\n",
      "47840/69300 [===================>..........] - ETA: 20s - loss: 0.0185 - acc: 0.99"
     ]
    },
    {
     "name": "stderr",
     "output_type": "stream",
     "text": [
      "IOPub message rate exceeded.\n",
      "The notebook server will temporarily stop sending output\n",
      "to the client in order to avoid crashing it.\n",
      "To change this limit, set the config variable\n",
      "`--NotebookApp.iopub_msg_rate_limit`.\n",
      "\n",
      "Current values:\n",
      "NotebookApp.iopub_msg_rate_limit=1000.0 (msgs/sec)\n",
      "NotebookApp.rate_limit_window=3.0 (secs)\n",
      "\n"
     ]
    },
    {
     "name": "stdout",
     "output_type": "stream",
     "text": [
      "69300/69300 [==============================] - 65s 937us/step - loss: 0.0164 - acc: 0.9988\n",
      "Epoch 8/10\n",
      "69300/69300 [==============================] - 65s 938us/step - loss: 0.0158 - acc: 0.9989\n",
      "Epoch 9/10\n",
      "35680/69300 [==============>...............] - ETA: 31s - loss: 0.0181 - acc: 0.9986 ETA: 31s - loss: 0.0182 - acc: "
     ]
    },
    {
     "name": "stderr",
     "output_type": "stream",
     "text": [
      "IOPub message rate exceeded.\n",
      "The notebook server will temporarily stop sending output\n",
      "to the client in order to avoid crashing it.\n",
      "To change this limit, set the config variable\n",
      "`--NotebookApp.iopub_msg_rate_limit`.\n",
      "\n",
      "Current values:\n",
      "NotebookApp.iopub_msg_rate_limit=1000.0 (msgs/sec)\n",
      "NotebookApp.rate_limit_window=3.0 (secs)\n",
      "\n"
     ]
    }
   ],
   "source": [
    "##initializing variables\n",
    "c1 = pd.Series(0,name = \"Train size\")\n",
    "c2 = pd.Series(0,name = \"Test size\")\n",
    "c3 = pd.Series(0,name = \"Train acc\")\n",
    "c4 = pd.Series(0,name = \"Test acc\")\n",
    "c5 = pd.Series(0,name= \"Train loss\")\n",
    "c6 = pd.Series(0,name= \"Test loss\")\n",
    "df = pd.DataFrame([(0,0,0,0,0,0)\n",
    "                  ],columns=['Train size',\n",
    "'Test size',\n",
    "'Train acc',\n",
    "'Test acc','Train loss','Test loss'])\n",
    "\n",
    "#splitting the dataset into train and test to build learning curve\n",
    "for i in np.arange(0.03,1.02,0.03):\n",
    "    print('i value',i)\n",
    "    size = x_full.shape[0]\n",
    "    size1 = int(size*i)\n",
    "    \n",
    "    train=x_full[0:(size1)]\n",
    "    print('x train split',train.shape) \n",
    "    test=x_full[(size1):(size)]\n",
    "    print('x test split',test.shape)\n",
    "    \n",
    "    sizey = y_full.shape[0]\n",
    "    sizey1 = int(sizey*i)\n",
    "    trainy = y_full[0:(sizey1)]\n",
    "    print('y train split',trainy.shape)\n",
    "    testy = y_full[(sizey1):sizey]\n",
    "    print('y test split',testy.shape)\n",
    "    \n",
    "    #using RMSprop optimizer from above\n",
    "    fit=model.fit(x=train,y=trainy, epochs=10)\n",
    "    \n",
    "    train_loss=np.mean(fit.history.get('loss'))\n",
    "    train_acc=np.mean(fit.history.get('acc'))\n",
    "    print('training loss',train_loss)\n",
    "    print('training acc',train_acc)\n",
    "    \n",
    "    eva=model.evaluate(test, testy)\n",
    "    test_loss=eva[0]\n",
    "    test_acc=eva[1]\n",
    "    print('testing loss',test_loss)\n",
    "    print('testing acc',test_acc)\n",
    "    \n",
    "    c1[i] = pd.Series(train.shape[0],name = \"Train size\")\n",
    "    c2[i] = pd.Series(test.shape[0],name = \"Test size\")\n",
    "    c3[i] = pd.Series(train_acc,name = \"Train acc\")\n",
    "    c4[i] = pd.Series(test_acc,name = \"Test acc\")\n",
    "    c5[i] = pd.Series(train_loss,name= \"Train loss\")\n",
    "    c6[i] = pd.Series(test_loss,name= \"Test loss\")\n",
    "    \n",
    "    df1=pd.concat([c1[i],c2[i],c3[i],c4[i],c5[i],c6[i]],axis=1)\n",
    "    df=df.append(df1)  "
   ]
  },
  {
   "cell_type": "code",
   "execution_count": 167,
   "metadata": {},
   "outputs": [
    {
     "data": {
      "text/html": [
       "<div>\n",
       "<style scoped>\n",
       "    .dataframe tbody tr th:only-of-type {\n",
       "        vertical-align: middle;\n",
       "    }\n",
       "\n",
       "    .dataframe tbody tr th {\n",
       "        vertical-align: top;\n",
       "    }\n",
       "\n",
       "    .dataframe thead th {\n",
       "        text-align: right;\n",
       "    }\n",
       "</style>\n",
       "<table border=\"1\" class=\"dataframe\">\n",
       "  <thead>\n",
       "    <tr style=\"text-align: right;\">\n",
       "      <th></th>\n",
       "      <th>Train size</th>\n",
       "      <th>Test size</th>\n",
       "      <th>Train acc</th>\n",
       "      <th>Test acc</th>\n",
       "      <th>Train loss</th>\n",
       "      <th>Test loss</th>\n",
       "    </tr>\n",
       "  </thead>\n",
       "  <tbody>\n",
       "    <tr>\n",
       "      <th>0</th>\n",
       "      <td>2100</td>\n",
       "      <td>67900</td>\n",
       "      <td>0.999762</td>\n",
       "      <td>0.990486</td>\n",
       "      <td>0.000439</td>\n",
       "      <td>0.050355</td>\n",
       "    </tr>\n",
       "    <tr>\n",
       "      <th>0</th>\n",
       "      <td>4200</td>\n",
       "      <td>65800</td>\n",
       "      <td>0.999405</td>\n",
       "      <td>0.988085</td>\n",
       "      <td>0.001404</td>\n",
       "      <td>0.081760</td>\n",
       "    </tr>\n",
       "    <tr>\n",
       "      <th>0</th>\n",
       "      <td>6300</td>\n",
       "      <td>63700</td>\n",
       "      <td>0.999048</td>\n",
       "      <td>0.986154</td>\n",
       "      <td>0.004393</td>\n",
       "      <td>0.096801</td>\n",
       "    </tr>\n",
       "    <tr>\n",
       "      <th>0</th>\n",
       "      <td>8400</td>\n",
       "      <td>61600</td>\n",
       "      <td>0.998381</td>\n",
       "      <td>0.987094</td>\n",
       "      <td>0.010220</td>\n",
       "      <td>0.103610</td>\n",
       "    </tr>\n",
       "    <tr>\n",
       "      <th>0</th>\n",
       "      <td>10500</td>\n",
       "      <td>59500</td>\n",
       "      <td>0.998952</td>\n",
       "      <td>0.987950</td>\n",
       "      <td>0.006995</td>\n",
       "      <td>0.098030</td>\n",
       "    </tr>\n",
       "    <tr>\n",
       "      <th>0</th>\n",
       "      <td>12600</td>\n",
       "      <td>57400</td>\n",
       "      <td>0.998968</td>\n",
       "      <td>0.987561</td>\n",
       "      <td>0.007878</td>\n",
       "      <td>0.110268</td>\n",
       "    </tr>\n",
       "    <tr>\n",
       "      <th>0</th>\n",
       "      <td>14700</td>\n",
       "      <td>55300</td>\n",
       "      <td>0.998673</td>\n",
       "      <td>0.987432</td>\n",
       "      <td>0.008302</td>\n",
       "      <td>0.115538</td>\n",
       "    </tr>\n",
       "    <tr>\n",
       "      <th>0</th>\n",
       "      <td>16800</td>\n",
       "      <td>53200</td>\n",
       "      <td>0.998690</td>\n",
       "      <td>0.989079</td>\n",
       "      <td>0.010587</td>\n",
       "      <td>0.105574</td>\n",
       "    </tr>\n",
       "    <tr>\n",
       "      <th>0</th>\n",
       "      <td>18900</td>\n",
       "      <td>51100</td>\n",
       "      <td>0.998720</td>\n",
       "      <td>0.989706</td>\n",
       "      <td>0.009084</td>\n",
       "      <td>0.102026</td>\n",
       "    </tr>\n",
       "    <tr>\n",
       "      <th>0</th>\n",
       "      <td>21000</td>\n",
       "      <td>49000</td>\n",
       "      <td>0.998990</td>\n",
       "      <td>0.989612</td>\n",
       "      <td>0.008482</td>\n",
       "      <td>0.110940</td>\n",
       "    </tr>\n",
       "    <tr>\n",
       "      <th>0</th>\n",
       "      <td>23099</td>\n",
       "      <td>46901</td>\n",
       "      <td>0.999190</td>\n",
       "      <td>0.990022</td>\n",
       "      <td>0.006977</td>\n",
       "      <td>0.109383</td>\n",
       "    </tr>\n",
       "    <tr>\n",
       "      <th>0</th>\n",
       "      <td>25200</td>\n",
       "      <td>44800</td>\n",
       "      <td>0.999190</td>\n",
       "      <td>0.989420</td>\n",
       "      <td>0.006971</td>\n",
       "      <td>0.116386</td>\n",
       "    </tr>\n",
       "    <tr>\n",
       "      <th>0</th>\n",
       "      <td>27300</td>\n",
       "      <td>42700</td>\n",
       "      <td>0.998813</td>\n",
       "      <td>0.989251</td>\n",
       "      <td>0.011633</td>\n",
       "      <td>0.119563</td>\n",
       "    </tr>\n",
       "    <tr>\n",
       "      <th>0</th>\n",
       "      <td>29400</td>\n",
       "      <td>40600</td>\n",
       "      <td>0.998724</td>\n",
       "      <td>0.989901</td>\n",
       "      <td>0.013706</td>\n",
       "      <td>0.122400</td>\n",
       "    </tr>\n",
       "    <tr>\n",
       "      <th>0</th>\n",
       "      <td>31499</td>\n",
       "      <td>38501</td>\n",
       "      <td>0.998803</td>\n",
       "      <td>0.989766</td>\n",
       "      <td>0.012685</td>\n",
       "      <td>0.125892</td>\n",
       "    </tr>\n",
       "    <tr>\n",
       "      <th>0</th>\n",
       "      <td>33600</td>\n",
       "      <td>36400</td>\n",
       "      <td>0.998601</td>\n",
       "      <td>0.989753</td>\n",
       "      <td>0.014567</td>\n",
       "      <td>0.121165</td>\n",
       "    </tr>\n",
       "    <tr>\n",
       "      <th>0</th>\n",
       "      <td>35700</td>\n",
       "      <td>34300</td>\n",
       "      <td>0.998756</td>\n",
       "      <td>0.990000</td>\n",
       "      <td>0.013683</td>\n",
       "      <td>0.121921</td>\n",
       "    </tr>\n",
       "    <tr>\n",
       "      <th>0</th>\n",
       "      <td>37800</td>\n",
       "      <td>32200</td>\n",
       "      <td>0.998751</td>\n",
       "      <td>0.990839</td>\n",
       "      <td>0.014542</td>\n",
       "      <td>0.119310</td>\n",
       "    </tr>\n",
       "    <tr>\n",
       "      <th>0</th>\n",
       "      <td>39900</td>\n",
       "      <td>30100</td>\n",
       "      <td>0.998614</td>\n",
       "      <td>0.991163</td>\n",
       "      <td>0.017208</td>\n",
       "      <td>0.112785</td>\n",
       "    </tr>\n",
       "    <tr>\n",
       "      <th>0</th>\n",
       "      <td>42000</td>\n",
       "      <td>28000</td>\n",
       "      <td>0.998529</td>\n",
       "      <td>0.990607</td>\n",
       "      <td>0.017603</td>\n",
       "      <td>0.122974</td>\n",
       "    </tr>\n",
       "    <tr>\n",
       "      <th>0</th>\n",
       "      <td>44100</td>\n",
       "      <td>25900</td>\n",
       "      <td>0.998583</td>\n",
       "      <td>0.990927</td>\n",
       "      <td>0.017979</td>\n",
       "      <td>0.116221</td>\n",
       "    </tr>\n",
       "    <tr>\n",
       "      <th>0</th>\n",
       "      <td>46200</td>\n",
       "      <td>23800</td>\n",
       "      <td>0.998556</td>\n",
       "      <td>0.991134</td>\n",
       "      <td>0.018142</td>\n",
       "      <td>0.117404</td>\n",
       "    </tr>\n",
       "    <tr>\n",
       "      <th>0</th>\n",
       "      <td>48299</td>\n",
       "      <td>21701</td>\n",
       "      <td>0.998588</td>\n",
       "      <td>0.991383</td>\n",
       "      <td>0.017873</td>\n",
       "      <td>0.108563</td>\n",
       "    </tr>\n",
       "    <tr>\n",
       "      <th>0</th>\n",
       "      <td>50400</td>\n",
       "      <td>19600</td>\n",
       "      <td>0.998502</td>\n",
       "      <td>0.991939</td>\n",
       "      <td>0.019008</td>\n",
       "      <td>0.108545</td>\n",
       "    </tr>\n",
       "    <tr>\n",
       "      <th>0</th>\n",
       "      <td>52500</td>\n",
       "      <td>17500</td>\n",
       "      <td>0.998648</td>\n",
       "      <td>0.990857</td>\n",
       "      <td>0.017257</td>\n",
       "      <td>0.126607</td>\n",
       "    </tr>\n",
       "    <tr>\n",
       "      <th>0</th>\n",
       "      <td>54600</td>\n",
       "      <td>15400</td>\n",
       "      <td>0.998612</td>\n",
       "      <td>0.991623</td>\n",
       "      <td>0.018234</td>\n",
       "      <td>0.110385</td>\n",
       "    </tr>\n",
       "    <tr>\n",
       "      <th>0</th>\n",
       "      <td>56700</td>\n",
       "      <td>13300</td>\n",
       "      <td>0.998661</td>\n",
       "      <td>0.991278</td>\n",
       "      <td>0.017569</td>\n",
       "      <td>0.122103</td>\n",
       "    </tr>\n",
       "    <tr>\n",
       "      <th>0</th>\n",
       "      <td>58800</td>\n",
       "      <td>11200</td>\n",
       "      <td>0.998690</td>\n",
       "      <td>0.992143</td>\n",
       "      <td>0.017675</td>\n",
       "      <td>0.113865</td>\n",
       "    </tr>\n",
       "    <tr>\n",
       "      <th>0</th>\n",
       "      <td>60900</td>\n",
       "      <td>9100</td>\n",
       "      <td>0.998714</td>\n",
       "      <td>0.992857</td>\n",
       "      <td>0.017448</td>\n",
       "      <td>0.106879</td>\n",
       "    </tr>\n",
       "    <tr>\n",
       "      <th>0</th>\n",
       "      <td>63000</td>\n",
       "      <td>7000</td>\n",
       "      <td>0.998367</td>\n",
       "      <td>0.994857</td>\n",
       "      <td>0.022309</td>\n",
       "      <td>0.075857</td>\n",
       "    </tr>\n",
       "    <tr>\n",
       "      <th>0</th>\n",
       "      <td>65099</td>\n",
       "      <td>4901</td>\n",
       "      <td>0.998435</td>\n",
       "      <td>0.996735</td>\n",
       "      <td>0.021504</td>\n",
       "      <td>0.044941</td>\n",
       "    </tr>\n",
       "    <tr>\n",
       "      <th>0</th>\n",
       "      <td>67200</td>\n",
       "      <td>2800</td>\n",
       "      <td>0.998668</td>\n",
       "      <td>0.996786</td>\n",
       "      <td>0.018407</td>\n",
       "      <td>0.046746</td>\n",
       "    </tr>\n",
       "    <tr>\n",
       "      <th>0</th>\n",
       "      <td>69300</td>\n",
       "      <td>700</td>\n",
       "      <td>0.998824</td>\n",
       "      <td>0.995714</td>\n",
       "      <td>0.016447</td>\n",
       "      <td>0.069129</td>\n",
       "    </tr>\n",
       "  </tbody>\n",
       "</table>\n",
       "</div>"
      ],
      "text/plain": [
       "   Train size  Test size  Train acc  Test acc  Train loss  Test loss\n",
       "0        2100      67900   0.999762  0.990486    0.000439   0.050355\n",
       "0        4200      65800   0.999405  0.988085    0.001404   0.081760\n",
       "0        6300      63700   0.999048  0.986154    0.004393   0.096801\n",
       "0        8400      61600   0.998381  0.987094    0.010220   0.103610\n",
       "0       10500      59500   0.998952  0.987950    0.006995   0.098030\n",
       "0       12600      57400   0.998968  0.987561    0.007878   0.110268\n",
       "0       14700      55300   0.998673  0.987432    0.008302   0.115538\n",
       "0       16800      53200   0.998690  0.989079    0.010587   0.105574\n",
       "0       18900      51100   0.998720  0.989706    0.009084   0.102026\n",
       "0       21000      49000   0.998990  0.989612    0.008482   0.110940\n",
       "0       23099      46901   0.999190  0.990022    0.006977   0.109383\n",
       "0       25200      44800   0.999190  0.989420    0.006971   0.116386\n",
       "0       27300      42700   0.998813  0.989251    0.011633   0.119563\n",
       "0       29400      40600   0.998724  0.989901    0.013706   0.122400\n",
       "0       31499      38501   0.998803  0.989766    0.012685   0.125892\n",
       "0       33600      36400   0.998601  0.989753    0.014567   0.121165\n",
       "0       35700      34300   0.998756  0.990000    0.013683   0.121921\n",
       "0       37800      32200   0.998751  0.990839    0.014542   0.119310\n",
       "0       39900      30100   0.998614  0.991163    0.017208   0.112785\n",
       "0       42000      28000   0.998529  0.990607    0.017603   0.122974\n",
       "0       44100      25900   0.998583  0.990927    0.017979   0.116221\n",
       "0       46200      23800   0.998556  0.991134    0.018142   0.117404\n",
       "0       48299      21701   0.998588  0.991383    0.017873   0.108563\n",
       "0       50400      19600   0.998502  0.991939    0.019008   0.108545\n",
       "0       52500      17500   0.998648  0.990857    0.017257   0.126607\n",
       "0       54600      15400   0.998612  0.991623    0.018234   0.110385\n",
       "0       56700      13300   0.998661  0.991278    0.017569   0.122103\n",
       "0       58800      11200   0.998690  0.992143    0.017675   0.113865\n",
       "0       60900       9100   0.998714  0.992857    0.017448   0.106879\n",
       "0       63000       7000   0.998367  0.994857    0.022309   0.075857\n",
       "0       65099       4901   0.998435  0.996735    0.021504   0.044941\n",
       "0       67200       2800   0.998668  0.996786    0.018407   0.046746\n",
       "0       69300        700   0.998824  0.995714    0.016447   0.069129"
      ]
     },
     "execution_count": 167,
     "metadata": {},
     "output_type": "execute_result"
    }
   ],
   "source": [
    "#summary table of accuracy and losses for each train and test split\n",
    "df=df[1:df.shape[0]]\n",
    "df"
   ]
  },
  {
   "cell_type": "code",
   "execution_count": 168,
   "metadata": {},
   "outputs": [
    {
     "data": {
      "text/html": [
       "<div>\n",
       "<style scoped>\n",
       "    .dataframe tbody tr th:only-of-type {\n",
       "        vertical-align: middle;\n",
       "    }\n",
       "\n",
       "    .dataframe tbody tr th {\n",
       "        vertical-align: top;\n",
       "    }\n",
       "\n",
       "    .dataframe thead th {\n",
       "        text-align: right;\n",
       "    }\n",
       "</style>\n",
       "<table border=\"1\" class=\"dataframe\">\n",
       "  <thead>\n",
       "    <tr style=\"text-align: right;\">\n",
       "      <th></th>\n",
       "      <th>Test loss</th>\n",
       "    </tr>\n",
       "  </thead>\n",
       "  <tbody>\n",
       "    <tr>\n",
       "      <th>0</th>\n",
       "      <td>0.050355</td>\n",
       "    </tr>\n",
       "    <tr>\n",
       "      <th>0</th>\n",
       "      <td>0.081760</td>\n",
       "    </tr>\n",
       "    <tr>\n",
       "      <th>0</th>\n",
       "      <td>0.096801</td>\n",
       "    </tr>\n",
       "    <tr>\n",
       "      <th>0</th>\n",
       "      <td>0.103610</td>\n",
       "    </tr>\n",
       "    <tr>\n",
       "      <th>0</th>\n",
       "      <td>0.098030</td>\n",
       "    </tr>\n",
       "    <tr>\n",
       "      <th>0</th>\n",
       "      <td>0.110268</td>\n",
       "    </tr>\n",
       "    <tr>\n",
       "      <th>0</th>\n",
       "      <td>0.115538</td>\n",
       "    </tr>\n",
       "    <tr>\n",
       "      <th>0</th>\n",
       "      <td>0.105574</td>\n",
       "    </tr>\n",
       "    <tr>\n",
       "      <th>0</th>\n",
       "      <td>0.102026</td>\n",
       "    </tr>\n",
       "    <tr>\n",
       "      <th>0</th>\n",
       "      <td>0.110940</td>\n",
       "    </tr>\n",
       "    <tr>\n",
       "      <th>0</th>\n",
       "      <td>0.109383</td>\n",
       "    </tr>\n",
       "    <tr>\n",
       "      <th>0</th>\n",
       "      <td>0.116386</td>\n",
       "    </tr>\n",
       "    <tr>\n",
       "      <th>0</th>\n",
       "      <td>0.119563</td>\n",
       "    </tr>\n",
       "    <tr>\n",
       "      <th>0</th>\n",
       "      <td>0.122400</td>\n",
       "    </tr>\n",
       "    <tr>\n",
       "      <th>0</th>\n",
       "      <td>0.125892</td>\n",
       "    </tr>\n",
       "    <tr>\n",
       "      <th>0</th>\n",
       "      <td>0.121165</td>\n",
       "    </tr>\n",
       "    <tr>\n",
       "      <th>0</th>\n",
       "      <td>0.121921</td>\n",
       "    </tr>\n",
       "    <tr>\n",
       "      <th>0</th>\n",
       "      <td>0.119310</td>\n",
       "    </tr>\n",
       "    <tr>\n",
       "      <th>0</th>\n",
       "      <td>0.112785</td>\n",
       "    </tr>\n",
       "    <tr>\n",
       "      <th>0</th>\n",
       "      <td>0.122974</td>\n",
       "    </tr>\n",
       "    <tr>\n",
       "      <th>0</th>\n",
       "      <td>0.116221</td>\n",
       "    </tr>\n",
       "    <tr>\n",
       "      <th>0</th>\n",
       "      <td>0.117404</td>\n",
       "    </tr>\n",
       "    <tr>\n",
       "      <th>0</th>\n",
       "      <td>0.108563</td>\n",
       "    </tr>\n",
       "    <tr>\n",
       "      <th>0</th>\n",
       "      <td>0.108545</td>\n",
       "    </tr>\n",
       "    <tr>\n",
       "      <th>0</th>\n",
       "      <td>0.126607</td>\n",
       "    </tr>\n",
       "    <tr>\n",
       "      <th>0</th>\n",
       "      <td>0.110385</td>\n",
       "    </tr>\n",
       "    <tr>\n",
       "      <th>0</th>\n",
       "      <td>0.122103</td>\n",
       "    </tr>\n",
       "    <tr>\n",
       "      <th>0</th>\n",
       "      <td>0.113865</td>\n",
       "    </tr>\n",
       "    <tr>\n",
       "      <th>0</th>\n",
       "      <td>0.106879</td>\n",
       "    </tr>\n",
       "    <tr>\n",
       "      <th>0</th>\n",
       "      <td>0.075857</td>\n",
       "    </tr>\n",
       "    <tr>\n",
       "      <th>0</th>\n",
       "      <td>0.044941</td>\n",
       "    </tr>\n",
       "    <tr>\n",
       "      <th>0</th>\n",
       "      <td>0.046746</td>\n",
       "    </tr>\n",
       "    <tr>\n",
       "      <th>0</th>\n",
       "      <td>0.069129</td>\n",
       "    </tr>\n",
       "  </tbody>\n",
       "</table>\n",
       "</div>"
      ],
      "text/plain": [
       "   Test loss\n",
       "0   0.050355\n",
       "0   0.081760\n",
       "0   0.096801\n",
       "0   0.103610\n",
       "0   0.098030\n",
       "0   0.110268\n",
       "0   0.115538\n",
       "0   0.105574\n",
       "0   0.102026\n",
       "0   0.110940\n",
       "0   0.109383\n",
       "0   0.116386\n",
       "0   0.119563\n",
       "0   0.122400\n",
       "0   0.125892\n",
       "0   0.121165\n",
       "0   0.121921\n",
       "0   0.119310\n",
       "0   0.112785\n",
       "0   0.122974\n",
       "0   0.116221\n",
       "0   0.117404\n",
       "0   0.108563\n",
       "0   0.108545\n",
       "0   0.126607\n",
       "0   0.110385\n",
       "0   0.122103\n",
       "0   0.113865\n",
       "0   0.106879\n",
       "0   0.075857\n",
       "0   0.044941\n",
       "0   0.046746\n",
       "0   0.069129"
      ]
     },
     "execution_count": 168,
     "metadata": {},
     "output_type": "execute_result"
    }
   ],
   "source": [
    "train_size_lc= df.iloc[:,0:1]\n",
    "train_size_lc\n",
    "train_acc_lc= df.iloc[:,2:3]\n",
    "train_acc_lc\n",
    "test_acc_lc= df.iloc[:,3:4]\n",
    "test_acc_lc\n",
    "train_loss_lc= df.iloc[:,4:5]\n",
    "train_loss_lc\n",
    "test_loss_lc= df.iloc[:,5:6]\n",
    "test_loss_lc"
   ]
  },
  {
   "cell_type": "code",
   "execution_count": 169,
   "metadata": {},
   "outputs": [
    {
     "data": {
      "image/png": "[encoded data removed]",
      "text/plain": [
       "<Figure size 432x288 with 1 Axes>"
      ]
     },
     "metadata": {},
     "output_type": "display_data"
    }
   ],
   "source": [
    "#learning curve for accuracy\n",
    "plt.style.use('bmh')\n",
    "plt.plot(train_size_lc, train_acc_lc, color=\"#1033D2\",  label=\"Training score\")\n",
    "plt.plot(train_size_lc, test_acc_lc, '--', color=\"#E82E1A\",  label=\"Test score\")\n",
    "\n",
    "#creating plot\n",
    "plt.title(\"Learning Curve(Accuracy)\")\n",
    "plt.xlabel(\"Training Set Size\"), plt.ylabel(\"Accuracy Score\"), plt.legend(loc=\"best\")\n",
    "plt.tight_layout()\n",
    "plt.show()"
   ]
  },
  {
   "cell_type": "code",
   "execution_count": 170,
   "metadata": {},
   "outputs": [
    {
     "data": {
      "image/png": "[encoded data removed]",
      "text/plain": [
       "<Figure size 432x288 with 1 Axes>"
      ]
     },
     "metadata": {},
     "output_type": "display_data"
    }
   ],
   "source": [
    "#learning curve for loss\n",
    "plt.style.use('bmh')\n",
    "plt.plot(train_size_lc, train_loss_lc, color=\"#1033D2\",  label=\"Training score\")\n",
    "plt.plot(train_size_lc, test_loss_lc, '--', color=\"#E82E1A\",  label=\"Test score\")\n",
    "\n",
    "#creating plot\n",
    "plt.title(\"Learning Curve(loss)\")\n",
    "plt.xlabel(\"Training Set Size\"), plt.ylabel(\"Loss\"), plt.legend(loc=\"best\")\n",
    "plt.tight_layout()\n",
    "plt.show()"
   ]
  }
 ],
 "metadata": {
  "kernelspec": {
   "display_name": "Python 3",
   "language": "python",
   "name": "python3"
  },
  "language_info": {
   "codemirror_mode": {
    "name": "ipython",
    "version": 3
   },
   "file_extension": ".py",
   "mimetype": "text/x-python",
   "name": "python",
   "nbconvert_exporter": "python",
   "pygments_lexer": "ipython3",
   "version": "3.6.7"
  }
 },
 "nbformat": 4,
 "nbformat_minor": 2
}
